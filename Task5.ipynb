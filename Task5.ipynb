{
 "cells": [
  {
   "cell_type": "markdown",
   "id": "5c46a93a",
   "metadata": {},
   "source": [
    "**Task 5**\n",
    "\n",
    "**Registration I'd: SIRSS2134**\n",
    "\n",
    "**Name: Chetan Bansal**"
   ]
  },
  {
   "cell_type": "markdown",
   "id": "8462881b",
   "metadata": {},
   "source": [
    "Q1. Given a list of integers, write a function to return the sum of all prime numbers in that\n",
    "list."
   ]
  },
  {
   "cell_type": "code",
   "execution_count": 1,
   "id": "93d00803",
   "metadata": {},
   "outputs": [
    {
     "data": {
      "text/plain": [
       "11"
      ]
     },
     "execution_count": 1,
     "metadata": {},
     "output_type": "execute_result"
    }
   ],
   "source": [
    "list = [12,30,60,27,39,11]\n",
    "def sum_prime(list):\n",
    "    sum_list = []\n",
    "    for i in list:\n",
    "        for j in range(2, i-1 ):\n",
    "            if i%j == 0:\n",
    "                break\n",
    "        else:\n",
    "            sum_list.append(i)\n",
    "    return sum(sum_list)\n",
    "sum_prime(list)"
   ]
  },
  {
   "cell_type": "markdown",
   "id": "af3e1cc7",
   "metadata": {},
   "source": [
    "Q2. Given a list of integers, write a function to check whether the list is strictly increasing or\n",
    "not."
   ]
  },
  {
   "cell_type": "code",
   "execution_count": 2,
   "id": "662b7290",
   "metadata": {},
   "outputs": [
    {
     "name": "stdout",
     "output_type": "stream",
     "text": [
      "list is strictly increasing\n"
     ]
    }
   ],
   "source": [
    "def increas(ls1):\n",
    "    import numpy as np\n",
    "    lst2 = np.arange(ls1[0],ls1[-1]+1)\n",
    "    lst3 = lst2.tolist()\n",
    "    if lst3 == ls1:\n",
    "        print('list is strictly increasing')\n",
    "    else:\n",
    "        print('list is not strictly increasing')\n",
    "list = [10,11,12,13,14,15,16,17,18,19]\n",
    "increas(list)"
   ]
  },
  {
   "cell_type": "markdown",
   "id": "a762aecc",
   "metadata": {},
   "source": [
    "Q3. Write a function to check whether a given list is expanding or not (the difference\n",
    "between adjacent elements should keep on increasing)."
   ]
  },
  {
   "cell_type": "code",
   "execution_count": 3,
   "id": "8b66015f",
   "metadata": {},
   "outputs": [
    {
     "data": {
      "text/plain": [
       "True"
      ]
     },
     "execution_count": 3,
     "metadata": {},
     "output_type": "execute_result"
    }
   ],
   "source": [
    "lst = [11,12,13,14,15,16,17]\n",
    "def expand(lst):\n",
    "    difference = abs(lst[1] - lst[0])\n",
    "    for i in range(1,len(lst)-1):\n",
    "        temp = abs(lst[i+1] - lst[i])\n",
    "        if temp < difference:\n",
    "            return False\n",
    "        else:\n",
    "            difference = temp\n",
    "    return True\n",
    "expand(lst)"
   ]
  },
  {
   "cell_type": "markdown",
   "id": "c82fe381",
   "metadata": {},
   "source": [
    "Q4.Write a function to calculate all permutations of a given string. (Without using itertools)"
   ]
  },
  {
   "cell_type": "code",
   "execution_count": 4,
   "id": "78037ecc",
   "metadata": {},
   "outputs": [
    {
     "name": "stdout",
     "output_type": "stream",
     "text": [
      "Enter the String : chet\n"
     ]
    },
    {
     "data": {
      "text/plain": [
       "['chet',\n",
       " 'hcet',\n",
       " 'hect',\n",
       " 'hetc',\n",
       " 'ceht',\n",
       " 'echt',\n",
       " 'ehct',\n",
       " 'ehtc',\n",
       " 'ceth',\n",
       " 'ecth',\n",
       " 'etch',\n",
       " 'ethc',\n",
       " 'chte',\n",
       " 'hcte',\n",
       " 'htce',\n",
       " 'htec',\n",
       " 'cthe',\n",
       " 'tche',\n",
       " 'thce',\n",
       " 'thec',\n",
       " 'cteh',\n",
       " 'tceh',\n",
       " 'tech',\n",
       " 'tehc']"
      ]
     },
     "execution_count": 4,
     "metadata": {},
     "output_type": "execute_result"
    }
   ],
   "source": [
    "def permutation(str) :\n",
    "    if len(str) == 1 :\n",
    "        return [str]\n",
    "    prmts = permutation(str[1:])\n",
    "    fst = str[0]\n",
    "    rslt = []\n",
    "    for i in prmts :\n",
    "        for j in range(len(i)+1) :\n",
    "            rslt.append(i[:j] + fst + i[j:])\n",
    "    return rslt\n",
    "inp = input(\"Enter the String : \")\n",
    "permutation(inp)"
   ]
  }
 ],
 "metadata": {
  "kernelspec": {
   "display_name": "Python 3",
   "language": "python",
   "name": "python3"
  },
  "language_info": {
   "codemirror_mode": {
    "name": "ipython",
    "version": 3
   },
   "file_extension": ".py",
   "mimetype": "text/x-python",
   "name": "python",
   "nbconvert_exporter": "python",
   "pygments_lexer": "ipython3",
   "version": "3.8.8"
  }
 },
 "nbformat": 4,
 "nbformat_minor": 5
}
