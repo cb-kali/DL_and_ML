{
  "nbformat": 4,
  "nbformat_minor": 0,
  "metadata": {
    "colab": {
      "name": "Stock Market Prediction Project.ipynb",
      "provenance": [],
      "collapsed_sections": [],
      "include_colab_link": true
    },
    "kernelspec": {
      "display_name": "Python 3",
      "name": "python3"
    },
    "language_info": {
      "name": "python"
    }
  },
  "cells": [
    {
      "cell_type": "markdown",
      "metadata": {
        "id": "view-in-github",
        "colab_type": "text"
      },
      "source": [
        "<a href=\"https://colab.research.google.com/github/cb-kali/DL_and_ML/blob/main/Stock_Market_Prediction_Project.ipynb\" target=\"_parent\"><img src=\"https://colab.research.google.com/assets/colab-badge.svg\" alt=\"Open In Colab\"/></a>"
      ]
    },
    {
      "cell_type": "markdown",
      "metadata": {
        "id": "LGUGGE_TNzZV"
      },
      "source": [
        "**Final Project**\n",
        "\n",
        "**Registration I'd: SIRSS2134**\n",
        "\n",
        "**Name: Chetan Bansal**\n",
        "\n",
        "**\"Stock Market Prediction Project using LSTM and Decision Tree\"**\n",
        "\n",
        "Project description: •Artificial intelligence (AI) to play an integral role in our day to day life applications whether it be home environment applications like Alexa or financial applications like trading, it is a development towards a new era of technology. This project comprises of an application of AI on financial data, known as algorithmic trading.\n",
        "•Automated trading systems involves the use of complex AI systems to make extremely fast trading decisions like buy, hold, or sell. It involves high frequency trading or HFT to make millions of trade in a day.\n",
        "•Machine learning is a subset of AI and generally provides solutions which learn from experience without being explicitly programmed.\n",
        "•In simple words, just the machine learning models are selected and fed with data the model then automatically adjusts its parameters and improves its outcome. \n",
        "\n",
        "The stock market prediction project is created using LSTM, Decision Tree and Keras to predict the future 30 days stock price.\n",
        "\n",
        "Members:\n",
        "\n",
        "1)Mrinmoy Dutta\n",
        "\n",
        "2) Mihir Vatsa\n",
        "\n",
        "3)Shubham Salokhe\n",
        "\n",
        "4) Gaurav Bhogale\n",
        "\n",
        "5) Chetan Bansal"
      ]
    },
    {
      "cell_type": "code",
      "metadata": {
        "colab": {
          "base_uri": "https://localhost:8080/"
        },
        "id": "8sEUcleSAsOa",
        "outputId": "eb920acb-8652-4cde-abe2-712986d4ffbf"
      },
      "source": [
        "#importing all the basic libraries reqired for this project\n",
        "import numpy as np\n",
        "import pandas as pd\n",
        "import matplotlib.pyplot as plt\n",
        "import seaborn as sns\n",
        "import tensorflow as tf\n",
        "from tensorflow import keras\n",
        "import pandas_datareader as pdr\n",
        "%matplotlib\n",
        "%matplotlib inline"
      ],
      "execution_count": null,
      "outputs": [
        {
          "output_type": "stream",
          "name": "stdout",
          "text": [
            "Using matplotlib backend: agg\n"
          ]
        }
      ]
    },
    {
      "cell_type": "code",
      "metadata": {
        "id": "qijCT4ofD4GC"
      },
      "source": [
        "#reading the dataset required for our project\n",
        "df = pdr.get_data_tiingo('AAPL', api_key='007e99e97e91f5fb71f5469e91e5c845f22f4db7')"
      ],
      "execution_count": null,
      "outputs": []
    },
    {
      "cell_type": "code",
      "metadata": {
        "id": "wQtiW8jWXaNO"
      },
      "source": [
        "df.to_csv('AAPL.csv')"
      ],
      "execution_count": null,
      "outputs": []
    },
    {
      "cell_type": "code",
      "metadata": {
        "id": "gXxEbGUYXh7t"
      },
      "source": [
        "df = pd.read_csv('AAPL.csv')"
      ],
      "execution_count": null,
      "outputs": []
    },
    {
      "cell_type": "code",
      "metadata": {
        "colab": {
          "base_uri": "https://localhost:8080/",
          "height": 359
        },
        "id": "AeTHVbxVH3gl",
        "outputId": "480b34d2-1067-4054-d428-0e1f2ec9e4ce"
      },
      "source": [
        "#displaying top 5 rows\n",
        "df.head(10)"
      ],
      "execution_count": null,
      "outputs": [
        {
          "output_type": "execute_result",
          "data": {
            "text/html": [
              "<div>\n",
              "<style scoped>\n",
              "    .dataframe tbody tr th:only-of-type {\n",
              "        vertical-align: middle;\n",
              "    }\n",
              "\n",
              "    .dataframe tbody tr th {\n",
              "        vertical-align: top;\n",
              "    }\n",
              "\n",
              "    .dataframe thead th {\n",
              "        text-align: right;\n",
              "    }\n",
              "</style>\n",
              "<table border=\"1\" class=\"dataframe\">\n",
              "  <thead>\n",
              "    <tr style=\"text-align: right;\">\n",
              "      <th></th>\n",
              "      <th>symbol</th>\n",
              "      <th>date</th>\n",
              "      <th>close</th>\n",
              "      <th>high</th>\n",
              "      <th>low</th>\n",
              "      <th>open</th>\n",
              "      <th>volume</th>\n",
              "      <th>adjClose</th>\n",
              "      <th>adjHigh</th>\n",
              "      <th>adjLow</th>\n",
              "      <th>adjOpen</th>\n",
              "      <th>adjVolume</th>\n",
              "      <th>divCash</th>\n",
              "      <th>splitFactor</th>\n",
              "    </tr>\n",
              "  </thead>\n",
              "  <tbody>\n",
              "    <tr>\n",
              "      <th>0</th>\n",
              "      <td>AAPL</td>\n",
              "      <td>2016-10-17 00:00:00+00:00</td>\n",
              "      <td>117.55</td>\n",
              "      <td>117.84</td>\n",
              "      <td>116.78</td>\n",
              "      <td>117.33</td>\n",
              "      <td>23624896</td>\n",
              "      <td>27.555810</td>\n",
              "      <td>27.623791</td>\n",
              "      <td>27.375309</td>\n",
              "      <td>27.504238</td>\n",
              "      <td>94499584</td>\n",
              "      <td>0.0</td>\n",
              "      <td>1.0</td>\n",
              "    </tr>\n",
              "    <tr>\n",
              "      <th>1</th>\n",
              "      <td>AAPL</td>\n",
              "      <td>2016-10-18 00:00:00+00:00</td>\n",
              "      <td>117.47</td>\n",
              "      <td>118.21</td>\n",
              "      <td>117.45</td>\n",
              "      <td>118.18</td>\n",
              "      <td>24553478</td>\n",
              "      <td>27.537057</td>\n",
              "      <td>27.710526</td>\n",
              "      <td>27.532368</td>\n",
              "      <td>27.703493</td>\n",
              "      <td>98213912</td>\n",
              "      <td>0.0</td>\n",
              "      <td>1.0</td>\n",
              "    </tr>\n",
              "    <tr>\n",
              "      <th>2</th>\n",
              "      <td>AAPL</td>\n",
              "      <td>2016-10-19 00:00:00+00:00</td>\n",
              "      <td>117.12</td>\n",
              "      <td>117.76</td>\n",
              "      <td>113.80</td>\n",
              "      <td>117.25</td>\n",
              "      <td>20034594</td>\n",
              "      <td>27.455011</td>\n",
              "      <td>27.605038</td>\n",
              "      <td>26.676744</td>\n",
              "      <td>27.485485</td>\n",
              "      <td>80138376</td>\n",
              "      <td>0.0</td>\n",
              "      <td>1.0</td>\n",
              "    </tr>\n",
              "    <tr>\n",
              "      <th>3</th>\n",
              "      <td>AAPL</td>\n",
              "      <td>2016-10-20 00:00:00+00:00</td>\n",
              "      <td>117.06</td>\n",
              "      <td>117.38</td>\n",
              "      <td>116.33</td>\n",
              "      <td>116.86</td>\n",
              "      <td>24125801</td>\n",
              "      <td>27.440945</td>\n",
              "      <td>27.515959</td>\n",
              "      <td>27.269821</td>\n",
              "      <td>27.394062</td>\n",
              "      <td>96503204</td>\n",
              "      <td>0.0</td>\n",
              "      <td>1.0</td>\n",
              "    </tr>\n",
              "    <tr>\n",
              "      <th>4</th>\n",
              "      <td>AAPL</td>\n",
              "      <td>2016-10-21 00:00:00+00:00</td>\n",
              "      <td>116.60</td>\n",
              "      <td>116.91</td>\n",
              "      <td>116.28</td>\n",
              "      <td>116.81</td>\n",
              "      <td>23192665</td>\n",
              "      <td>27.333113</td>\n",
              "      <td>27.405783</td>\n",
              "      <td>27.258100</td>\n",
              "      <td>27.382341</td>\n",
              "      <td>92770660</td>\n",
              "      <td>0.0</td>\n",
              "      <td>1.0</td>\n",
              "    </tr>\n",
              "    <tr>\n",
              "      <th>5</th>\n",
              "      <td>AAPL</td>\n",
              "      <td>2016-10-24 00:00:00+00:00</td>\n",
              "      <td>117.65</td>\n",
              "      <td>117.74</td>\n",
              "      <td>117.00</td>\n",
              "      <td>117.10</td>\n",
              "      <td>23538673</td>\n",
              "      <td>27.579252</td>\n",
              "      <td>27.600350</td>\n",
              "      <td>27.426880</td>\n",
              "      <td>27.450322</td>\n",
              "      <td>94154692</td>\n",
              "      <td>0.0</td>\n",
              "      <td>1.0</td>\n",
              "    </tr>\n",
              "    <tr>\n",
              "      <th>6</th>\n",
              "      <td>AAPL</td>\n",
              "      <td>2016-10-25 00:00:00+00:00</td>\n",
              "      <td>118.25</td>\n",
              "      <td>118.36</td>\n",
              "      <td>117.31</td>\n",
              "      <td>117.95</td>\n",
              "      <td>48128970</td>\n",
              "      <td>27.719903</td>\n",
              "      <td>27.745689</td>\n",
              "      <td>27.499550</td>\n",
              "      <td>27.649577</td>\n",
              "      <td>192515880</td>\n",
              "      <td>0.0</td>\n",
              "      <td>1.0</td>\n",
              "    </tr>\n",
              "    <tr>\n",
              "      <th>7</th>\n",
              "      <td>AAPL</td>\n",
              "      <td>2016-10-26 00:00:00+00:00</td>\n",
              "      <td>115.59</td>\n",
              "      <td>115.70</td>\n",
              "      <td>113.31</td>\n",
              "      <td>114.31</td>\n",
              "      <td>66134219</td>\n",
              "      <td>27.096351</td>\n",
              "      <td>27.122137</td>\n",
              "      <td>26.561879</td>\n",
              "      <td>26.796297</td>\n",
              "      <td>264536876</td>\n",
              "      <td>0.0</td>\n",
              "      <td>1.0</td>\n",
              "    </tr>\n",
              "    <tr>\n",
              "      <th>8</th>\n",
              "      <td>AAPL</td>\n",
              "      <td>2016-10-27 00:00:00+00:00</td>\n",
              "      <td>114.48</td>\n",
              "      <td>115.86</td>\n",
              "      <td>114.10</td>\n",
              "      <td>115.39</td>\n",
              "      <td>34562045</td>\n",
              "      <td>26.836148</td>\n",
              "      <td>27.159644</td>\n",
              "      <td>26.747069</td>\n",
              "      <td>27.049468</td>\n",
              "      <td>138248180</td>\n",
              "      <td>0.0</td>\n",
              "      <td>1.0</td>\n",
              "    </tr>\n",
              "    <tr>\n",
              "      <th>9</th>\n",
              "      <td>AAPL</td>\n",
              "      <td>2016-10-28 00:00:00+00:00</td>\n",
              "      <td>113.72</td>\n",
              "      <td>115.21</td>\n",
              "      <td>113.45</td>\n",
              "      <td>113.87</td>\n",
              "      <td>37861662</td>\n",
              "      <td>26.657990</td>\n",
              "      <td>27.007273</td>\n",
              "      <td>26.594697</td>\n",
              "      <td>26.693153</td>\n",
              "      <td>151446648</td>\n",
              "      <td>0.0</td>\n",
              "      <td>1.0</td>\n",
              "    </tr>\n",
              "  </tbody>\n",
              "</table>\n",
              "</div>"
            ],
            "text/plain": [
              "  symbol                       date   close  ...  adjVolume  divCash  splitFactor\n",
              "0   AAPL  2016-10-17 00:00:00+00:00  117.55  ...   94499584      0.0          1.0\n",
              "1   AAPL  2016-10-18 00:00:00+00:00  117.47  ...   98213912      0.0          1.0\n",
              "2   AAPL  2016-10-19 00:00:00+00:00  117.12  ...   80138376      0.0          1.0\n",
              "3   AAPL  2016-10-20 00:00:00+00:00  117.06  ...   96503204      0.0          1.0\n",
              "4   AAPL  2016-10-21 00:00:00+00:00  116.60  ...   92770660      0.0          1.0\n",
              "5   AAPL  2016-10-24 00:00:00+00:00  117.65  ...   94154692      0.0          1.0\n",
              "6   AAPL  2016-10-25 00:00:00+00:00  118.25  ...  192515880      0.0          1.0\n",
              "7   AAPL  2016-10-26 00:00:00+00:00  115.59  ...  264536876      0.0          1.0\n",
              "8   AAPL  2016-10-27 00:00:00+00:00  114.48  ...  138248180      0.0          1.0\n",
              "9   AAPL  2016-10-28 00:00:00+00:00  113.72  ...  151446648      0.0          1.0\n",
              "\n",
              "[10 rows x 14 columns]"
            ]
          },
          "metadata": {},
          "execution_count": 5
        }
      ]
    },
    {
      "cell_type": "code",
      "metadata": {
        "colab": {
          "base_uri": "https://localhost:8080/"
        },
        "id": "D0u84DrCIXNw",
        "outputId": "1b699632-38e0-475d-d628-8e720ac3cb35"
      },
      "source": [
        "df.shape"
      ],
      "execution_count": null,
      "outputs": [
        {
          "output_type": "execute_result",
          "data": {
            "text/plain": [
              "(1258, 14)"
            ]
          },
          "metadata": {},
          "execution_count": 6
        }
      ]
    },
    {
      "cell_type": "code",
      "metadata": {
        "colab": {
          "base_uri": "https://localhost:8080/"
        },
        "id": "KDimvAGNLFxh",
        "outputId": "e4f51f56-68df-41bd-9535-0bea464b11f2"
      },
      "source": [
        "#displaying the names of columns\n",
        "df.columns"
      ],
      "execution_count": null,
      "outputs": [
        {
          "output_type": "execute_result",
          "data": {
            "text/plain": [
              "Index(['symbol', 'date', 'close', 'high', 'low', 'open', 'volume', 'adjClose',\n",
              "       'adjHigh', 'adjLow', 'adjOpen', 'adjVolume', 'divCash', 'splitFactor'],\n",
              "      dtype='object')"
            ]
          },
          "metadata": {},
          "execution_count": 7
        }
      ]
    },
    {
      "cell_type": "code",
      "metadata": {
        "colab": {
          "base_uri": "https://localhost:8080/"
        },
        "id": "Y9hHFeTlMRPC",
        "outputId": "e433b60a-7db1-4410-9dc1-22c2e918a839"
      },
      "source": [
        "#displaying if there are any blanks or na values\n",
        "df.isna().any()"
      ],
      "execution_count": null,
      "outputs": [
        {
          "output_type": "execute_result",
          "data": {
            "text/plain": [
              "symbol         False\n",
              "date           False\n",
              "close          False\n",
              "high           False\n",
              "low            False\n",
              "open           False\n",
              "volume         False\n",
              "adjClose       False\n",
              "adjHigh        False\n",
              "adjLow         False\n",
              "adjOpen        False\n",
              "adjVolume      False\n",
              "divCash        False\n",
              "splitFactor    False\n",
              "dtype: bool"
            ]
          },
          "metadata": {},
          "execution_count": 8
        }
      ]
    },
    {
      "cell_type": "code",
      "metadata": {
        "colab": {
          "base_uri": "https://localhost:8080/"
        },
        "id": "060Lv8vBfaVK",
        "outputId": "ee9463f1-a013-42b8-e33f-693a13503231"
      },
      "source": [
        "#displaying basic information of the dataset\n",
        "df.info()"
      ],
      "execution_count": null,
      "outputs": [
        {
          "output_type": "stream",
          "name": "stdout",
          "text": [
            "<class 'pandas.core.frame.DataFrame'>\n",
            "RangeIndex: 1258 entries, 0 to 1257\n",
            "Data columns (total 14 columns):\n",
            " #   Column       Non-Null Count  Dtype  \n",
            "---  ------       --------------  -----  \n",
            " 0   symbol       1258 non-null   object \n",
            " 1   date         1258 non-null   object \n",
            " 2   close        1258 non-null   float64\n",
            " 3   high         1258 non-null   float64\n",
            " 4   low          1258 non-null   float64\n",
            " 5   open         1258 non-null   float64\n",
            " 6   volume       1258 non-null   int64  \n",
            " 7   adjClose     1258 non-null   float64\n",
            " 8   adjHigh      1258 non-null   float64\n",
            " 9   adjLow       1258 non-null   float64\n",
            " 10  adjOpen      1258 non-null   float64\n",
            " 11  adjVolume    1258 non-null   int64  \n",
            " 12  divCash      1258 non-null   float64\n",
            " 13  splitFactor  1258 non-null   float64\n",
            "dtypes: float64(10), int64(2), object(2)\n",
            "memory usage: 137.7+ KB\n"
          ]
        }
      ]
    },
    {
      "cell_type": "code",
      "metadata": {
        "colab": {
          "base_uri": "https://localhost:8080/",
          "height": 282
        },
        "id": "EIWDAg5_fdIj",
        "outputId": "23a8c430-e177-4523-fdb7-5f551bc96482"
      },
      "source": [
        "#plotting a graph\n",
        "df['open'].plot(figsize=(15,4))"
      ],
      "execution_count": null,
      "outputs": [
        {
          "output_type": "execute_result",
          "data": {
            "text/plain": [
              "<matplotlib.axes._subplots.AxesSubplot at 0x7f21bfa88450>"
            ]
          },
          "metadata": {},
          "execution_count": 10
        },
        {
          "output_type": "display_data",
          "data": {
            "image/png": "[encoded data removed]",
            "text/plain": [
              "<Figure size 1080x288 with 1 Axes>"
            ]
          },
          "metadata": {
            "needs_background": "light"
          }
        }
      ]
    },
    {
      "cell_type": "code",
      "metadata": {
        "colab": {
          "base_uri": "https://localhost:8080/",
          "height": 282
        },
        "id": "Rhg3-7qqhHe7",
        "outputId": "9fdceb02-8a33-4366-dbb7-dddcb6dc6385"
      },
      "source": [
        "df['close'].plot(figsize=(15,4))"
      ],
      "execution_count": null,
      "outputs": [
        {
          "output_type": "execute_result",
          "data": {
            "text/plain": [
              "<matplotlib.axes._subplots.AxesSubplot at 0x7f21bf9dec50>"
            ]
          },
          "metadata": {},
          "execution_count": 11
        },
        {
          "output_type": "display_data",
          "data": {
            "image/png": "[encoded data removed]",
            "text/plain": [
              "<Figure size 1080x288 with 1 Axes>"
            ]
          },
          "metadata": {
            "needs_background": "light"
          }
        }
      ]
    },
    {
      "cell_type": "code",
      "metadata": {
        "colab": {
          "base_uri": "https://localhost:8080/",
          "height": 514
        },
        "id": "C4z3RW31hPON",
        "outputId": "67fe8d9d-18ea-4e20-fe06-bf222fc0c0cb"
      },
      "source": [
        "#7 day rolling mean\n",
        "df.rolling(7).mean().head(15)"
      ],
      "execution_count": null,
      "outputs": [
        {
          "output_type": "execute_result",
          "data": {
            "text/html": [
              "<div>\n",
              "<style scoped>\n",
              "    .dataframe tbody tr th:only-of-type {\n",
              "        vertical-align: middle;\n",
              "    }\n",
              "\n",
              "    .dataframe tbody tr th {\n",
              "        vertical-align: top;\n",
              "    }\n",
              "\n",
              "    .dataframe thead th {\n",
              "        text-align: right;\n",
              "    }\n",
              "</style>\n",
              "<table border=\"1\" class=\"dataframe\">\n",
              "  <thead>\n",
              "    <tr style=\"text-align: right;\">\n",
              "      <th></th>\n",
              "      <th>close</th>\n",
              "      <th>high</th>\n",
              "      <th>low</th>\n",
              "      <th>open</th>\n",
              "      <th>volume</th>\n",
              "      <th>adjClose</th>\n",
              "      <th>adjHigh</th>\n",
              "      <th>adjLow</th>\n",
              "      <th>adjOpen</th>\n",
              "      <th>adjVolume</th>\n",
              "      <th>divCash</th>\n",
              "      <th>splitFactor</th>\n",
              "    </tr>\n",
              "  </thead>\n",
              "  <tbody>\n",
              "    <tr>\n",
              "      <th>0</th>\n",
              "      <td>NaN</td>\n",
              "      <td>NaN</td>\n",
              "      <td>NaN</td>\n",
              "      <td>NaN</td>\n",
              "      <td>NaN</td>\n",
              "      <td>NaN</td>\n",
              "      <td>NaN</td>\n",
              "      <td>NaN</td>\n",
              "      <td>NaN</td>\n",
              "      <td>NaN</td>\n",
              "      <td>NaN</td>\n",
              "      <td>NaN</td>\n",
              "    </tr>\n",
              "    <tr>\n",
              "      <th>1</th>\n",
              "      <td>NaN</td>\n",
              "      <td>NaN</td>\n",
              "      <td>NaN</td>\n",
              "      <td>NaN</td>\n",
              "      <td>NaN</td>\n",
              "      <td>NaN</td>\n",
              "      <td>NaN</td>\n",
              "      <td>NaN</td>\n",
              "      <td>NaN</td>\n",
              "      <td>NaN</td>\n",
              "      <td>NaN</td>\n",
              "      <td>NaN</td>\n",
              "    </tr>\n",
              "    <tr>\n",
              "      <th>2</th>\n",
              "      <td>NaN</td>\n",
              "      <td>NaN</td>\n",
              "      <td>NaN</td>\n",
              "      <td>NaN</td>\n",
              "      <td>NaN</td>\n",
              "      <td>NaN</td>\n",
              "      <td>NaN</td>\n",
              "      <td>NaN</td>\n",
              "      <td>NaN</td>\n",
              "      <td>NaN</td>\n",
              "      <td>NaN</td>\n",
              "      <td>NaN</td>\n",
              "    </tr>\n",
              "    <tr>\n",
              "      <th>3</th>\n",
              "      <td>NaN</td>\n",
              "      <td>NaN</td>\n",
              "      <td>NaN</td>\n",
              "      <td>NaN</td>\n",
              "      <td>NaN</td>\n",
              "      <td>NaN</td>\n",
              "      <td>NaN</td>\n",
              "      <td>NaN</td>\n",
              "      <td>NaN</td>\n",
              "      <td>NaN</td>\n",
              "      <td>NaN</td>\n",
              "      <td>NaN</td>\n",
              "    </tr>\n",
              "    <tr>\n",
              "      <th>4</th>\n",
              "      <td>NaN</td>\n",
              "      <td>NaN</td>\n",
              "      <td>NaN</td>\n",
              "      <td>NaN</td>\n",
              "      <td>NaN</td>\n",
              "      <td>NaN</td>\n",
              "      <td>NaN</td>\n",
              "      <td>NaN</td>\n",
              "      <td>NaN</td>\n",
              "      <td>NaN</td>\n",
              "      <td>NaN</td>\n",
              "      <td>NaN</td>\n",
              "    </tr>\n",
              "    <tr>\n",
              "      <th>5</th>\n",
              "      <td>NaN</td>\n",
              "      <td>NaN</td>\n",
              "      <td>NaN</td>\n",
              "      <td>NaN</td>\n",
              "      <td>NaN</td>\n",
              "      <td>NaN</td>\n",
              "      <td>NaN</td>\n",
              "      <td>NaN</td>\n",
              "      <td>NaN</td>\n",
              "      <td>NaN</td>\n",
              "      <td>NaN</td>\n",
              "      <td>NaN</td>\n",
              "    </tr>\n",
              "    <tr>\n",
              "      <th>6</th>\n",
              "      <td>117.385714</td>\n",
              "      <td>117.742857</td>\n",
              "      <td>116.421429</td>\n",
              "      <td>117.354286</td>\n",
              "      <td>2.674273e+07</td>\n",
              "      <td>27.517299</td>\n",
              "      <td>27.601019</td>\n",
              "      <td>27.291253</td>\n",
              "      <td>27.509931</td>\n",
              "      <td>1.069709e+08</td>\n",
              "      <td>0.000000</td>\n",
              "      <td>1.0</td>\n",
              "    </tr>\n",
              "    <tr>\n",
              "      <th>7</th>\n",
              "      <td>117.105714</td>\n",
              "      <td>117.437143</td>\n",
              "      <td>115.925714</td>\n",
              "      <td>116.922857</td>\n",
              "      <td>3.281549e+07</td>\n",
              "      <td>27.451662</td>\n",
              "      <td>27.529354</td>\n",
              "      <td>27.175049</td>\n",
              "      <td>27.408797</td>\n",
              "      <td>1.312619e+08</td>\n",
              "      <td>0.000000</td>\n",
              "      <td>1.0</td>\n",
              "    </tr>\n",
              "    <tr>\n",
              "      <th>8</th>\n",
              "      <td>116.678571</td>\n",
              "      <td>117.101429</td>\n",
              "      <td>115.447143</td>\n",
              "      <td>116.524286</td>\n",
              "      <td>3.424528e+07</td>\n",
              "      <td>27.351532</td>\n",
              "      <td>27.450657</td>\n",
              "      <td>27.062863</td>\n",
              "      <td>27.315365</td>\n",
              "      <td>1.369811e+08</td>\n",
              "      <td>0.000000</td>\n",
              "      <td>1.0</td>\n",
              "    </tr>\n",
              "    <tr>\n",
              "      <th>9</th>\n",
              "      <td>116.192857</td>\n",
              "      <td>116.737143</td>\n",
              "      <td>115.397143</td>\n",
              "      <td>116.041429</td>\n",
              "      <td>3.679200e+07</td>\n",
              "      <td>27.237672</td>\n",
              "      <td>27.365262</td>\n",
              "      <td>27.051142</td>\n",
              "      <td>27.202174</td>\n",
              "      <td>1.471680e+08</td>\n",
              "      <td>0.000000</td>\n",
              "      <td>1.0</td>\n",
              "    </tr>\n",
              "    <tr>\n",
              "      <th>10</th>\n",
              "      <td>115.690000</td>\n",
              "      <td>116.287143</td>\n",
              "      <td>114.950000</td>\n",
              "      <td>115.582857</td>\n",
              "      <td>3.711966e+07</td>\n",
              "      <td>27.119793</td>\n",
              "      <td>27.259774</td>\n",
              "      <td>26.946324</td>\n",
              "      <td>27.094677</td>\n",
              "      <td>1.484786e+08</td>\n",
              "      <td>0.000000</td>\n",
              "      <td>1.0</td>\n",
              "    </tr>\n",
              "    <tr>\n",
              "      <th>11</th>\n",
              "      <td>114.960000</td>\n",
              "      <td>115.838571</td>\n",
              "      <td>114.128571</td>\n",
              "      <td>115.104286</td>\n",
              "      <td>4.006725e+07</td>\n",
              "      <td>26.948668</td>\n",
              "      <td>27.154621</td>\n",
              "      <td>26.753767</td>\n",
              "      <td>26.982491</td>\n",
              "      <td>1.602690e+08</td>\n",
              "      <td>0.000000</td>\n",
              "      <td>1.0</td>\n",
              "    </tr>\n",
              "    <tr>\n",
              "      <th>12</th>\n",
              "      <td>114.094286</td>\n",
              "      <td>115.068571</td>\n",
              "      <td>113.304286</td>\n",
              "      <td>114.290000</td>\n",
              "      <td>4.075197e+07</td>\n",
              "      <td>26.745729</td>\n",
              "      <td>26.974119</td>\n",
              "      <td>26.560539</td>\n",
              "      <td>26.791608</td>\n",
              "      <td>1.630079e+08</td>\n",
              "      <td>0.000000</td>\n",
              "      <td>1.0</td>\n",
              "    </tr>\n",
              "    <tr>\n",
              "      <th>13</th>\n",
              "      <td>112.891429</td>\n",
              "      <td>114.082857</td>\n",
              "      <td>112.195714</td>\n",
              "      <td>113.294286</td>\n",
              "      <td>3.772392e+07</td>\n",
              "      <td>26.482847</td>\n",
              "      <td>26.762422</td>\n",
              "      <td>26.319710</td>\n",
              "      <td>26.577483</td>\n",
              "      <td>1.508957e+08</td>\n",
              "      <td>0.081429</td>\n",
              "      <td>1.0</td>\n",
              "    </tr>\n",
              "    <tr>\n",
              "      <th>14</th>\n",
              "      <td>111.927143</td>\n",
              "      <td>113.304286</td>\n",
              "      <td>111.452857</td>\n",
              "      <td>112.468571</td>\n",
              "      <td>3.268146e+07</td>\n",
              "      <td>26.275717</td>\n",
              "      <td>26.599072</td>\n",
              "      <td>26.164361</td>\n",
              "      <td>26.402784</td>\n",
              "      <td>1.307258e+08</td>\n",
              "      <td>0.081429</td>\n",
              "      <td>1.0</td>\n",
              "    </tr>\n",
              "  </tbody>\n",
              "</table>\n",
              "</div>"
            ],
            "text/plain": [
              "         close        high         low  ...     adjVolume   divCash  splitFactor\n",
              "0          NaN         NaN         NaN  ...           NaN       NaN          NaN\n",
              "1          NaN         NaN         NaN  ...           NaN       NaN          NaN\n",
              "2          NaN         NaN         NaN  ...           NaN       NaN          NaN\n",
              "3          NaN         NaN         NaN  ...           NaN       NaN          NaN\n",
              "4          NaN         NaN         NaN  ...           NaN       NaN          NaN\n",
              "5          NaN         NaN         NaN  ...           NaN       NaN          NaN\n",
              "6   117.385714  117.742857  116.421429  ...  1.069709e+08  0.000000          1.0\n",
              "7   117.105714  117.437143  115.925714  ...  1.312619e+08  0.000000          1.0\n",
              "8   116.678571  117.101429  115.447143  ...  1.369811e+08  0.000000          1.0\n",
              "9   116.192857  116.737143  115.397143  ...  1.471680e+08  0.000000          1.0\n",
              "10  115.690000  116.287143  114.950000  ...  1.484786e+08  0.000000          1.0\n",
              "11  114.960000  115.838571  114.128571  ...  1.602690e+08  0.000000          1.0\n",
              "12  114.094286  115.068571  113.304286  ...  1.630079e+08  0.000000          1.0\n",
              "13  112.891429  114.082857  112.195714  ...  1.508957e+08  0.081429          1.0\n",
              "14  111.927143  113.304286  111.452857  ...  1.307258e+08  0.081429          1.0\n",
              "\n",
              "[15 rows x 12 columns]"
            ]
          },
          "metadata": {},
          "execution_count": 12
        }
      ]
    },
    {
      "cell_type": "code",
      "metadata": {
        "colab": {
          "base_uri": "https://localhost:8080/",
          "height": 282
        },
        "id": "k-5rIg9VZF1M",
        "outputId": "13f962d0-1bfd-4d24-d6cc-48d5494273a3"
      },
      "source": [
        "df['open'].plot(figsize=(15,4))\n",
        "df.rolling(window=30).mean()['close'].plot()"
      ],
      "execution_count": null,
      "outputs": [
        {
          "output_type": "execute_result",
          "data": {
            "text/plain": [
              "<matplotlib.axes._subplots.AxesSubplot at 0x7f21bf51d7d0>"
            ]
          },
          "metadata": {},
          "execution_count": 13
        },
        {
          "output_type": "display_data",
          "data": {
            "image/png": "[encoded data removed]",
            "text/plain": [
              "<Figure size 1080x288 with 1 Axes>"
            ]
          },
          "metadata": {
            "needs_background": "light"
          }
        }
      ]
    },
    {
      "cell_type": "code",
      "metadata": {
        "colab": {
          "base_uri": "https://localhost:8080/"
        },
        "id": "wfD5lL0Kn-bN",
        "outputId": "1a02c8be-4091-4649-cac0-0fbf9c9c0a5a"
      },
      "source": [
        "df1 = df.reset_index()['close']\n",
        "df1[1250:]"
      ],
      "execution_count": null,
      "outputs": [
        {
          "output_type": "execute_result",
          "data": {
            "text/plain": [
              "1250    141.11\n",
              "1251    142.00\n",
              "1252    143.29\n",
              "1253    142.90\n",
              "1254    142.81\n",
              "1255    141.51\n",
              "1256    140.91\n",
              "1257    143.76\n",
              "Name: close, dtype: float64"
            ]
          },
          "metadata": {},
          "execution_count": 14
        }
      ]
    },
    {
      "cell_type": "code",
      "metadata": {
        "id": "lqFBEeqhlFdt"
      },
      "source": [
        "#transforming features to set range - Feature scaling\n",
        "from sklearn.preprocessing import MinMaxScaler\n",
        "sc = MinMaxScaler(feature_range = (0,1))\n",
        "df1 = sc.fit_transform(np.array(df1).reshape(-1,1))"
      ],
      "execution_count": null,
      "outputs": []
    },
    {
      "cell_type": "code",
      "metadata": {
        "colab": {
          "base_uri": "https://localhost:8080/"
        },
        "id": "gaImAp8ldWSa",
        "outputId": "561fda24-cd65-4243-b5a1-3ea3928d08a3"
      },
      "source": [
        "df1"
      ],
      "execution_count": null,
      "outputs": [
        {
          "output_type": "execute_result",
          "data": {
            "text/plain": [
              "array([[0.02957191],\n",
              "       [0.0293721 ],\n",
              "       [0.02849793],\n",
              "       ...,\n",
              "       [0.08941506],\n",
              "       [0.08791648],\n",
              "       [0.09503472]])"
            ]
          },
          "metadata": {},
          "execution_count": 16
        }
      ]
    },
    {
      "cell_type": "code",
      "metadata": {
        "colab": {
          "base_uri": "https://localhost:8080/"
        },
        "id": "bfUVhuSDdO8b",
        "outputId": "1006a271-1359-4c3e-c09e-9e383ede21b4"
      },
      "source": [
        "df1.shape"
      ],
      "execution_count": null,
      "outputs": [
        {
          "output_type": "execute_result",
          "data": {
            "text/plain": [
              "(1258, 1)"
            ]
          },
          "metadata": {},
          "execution_count": 17
        }
      ]
    },
    {
      "cell_type": "code",
      "metadata": {
        "id": "Hrp_g3aLpOYA"
      },
      "source": [
        "#splitting dataset into train and test\n",
        "training_size = int(len(df1)*0.65)\n",
        "test_size = len(df1)-training_size\n",
        "train_data, test_data = df1[0:training_size, :], df1[training_size:len(df1), :1]"
      ],
      "execution_count": null,
      "outputs": []
    },
    {
      "cell_type": "code",
      "metadata": {
        "colab": {
          "base_uri": "https://localhost:8080/"
        },
        "id": "qsyLWeRtpp4G",
        "outputId": "4c9493bd-42e1-444a-ab06-299629ba5840"
      },
      "source": [
        "training_size, test_size"
      ],
      "execution_count": null,
      "outputs": [
        {
          "output_type": "execute_result",
          "data": {
            "text/plain": [
              "(817, 441)"
            ]
          },
          "metadata": {},
          "execution_count": 19
        }
      ]
    },
    {
      "cell_type": "code",
      "metadata": {
        "id": "vbosxSoMptzj"
      },
      "source": [
        "import numpy\n",
        "#converting array of values into dataset matrix\n",
        "def create_dataset(dataset, time_step = 1):\n",
        "  dataX, dataY = [], []\n",
        "  for i in range(len(dataset)-time_step-1):\n",
        "    a = dataset[i:(i+time_step), 0]\n",
        "    dataX.append(a)\n",
        "    dataY.append(dataset[i + time_step, 0])\n",
        "  return numpy.array(dataX), numpy.array(dataY)"
      ],
      "execution_count": null,
      "outputs": []
    },
    {
      "cell_type": "code",
      "metadata": {
        "id": "Qx2xxwIcs3TC"
      },
      "source": [
        "#reshaping the data into X = t, t+1, t+2, t+3 and Y = t+4\n",
        "time_step = 100\n",
        "X_train, y_train = create_dataset(train_data, time_step)\n",
        "X_test, ytest = create_dataset(test_data, time_step)"
      ],
      "execution_count": null,
      "outputs": []
    },
    {
      "cell_type": "code",
      "metadata": {
        "colab": {
          "base_uri": "https://localhost:8080/"
        },
        "id": "OvnZvg8MgLpC",
        "outputId": "62eb49d2-043c-41e5-a5fa-5ac917617112"
      },
      "source": [
        "print(X_train.shape), print(y_train.shape)"
      ],
      "execution_count": null,
      "outputs": [
        {
          "output_type": "stream",
          "name": "stdout",
          "text": [
            "(716, 100)\n",
            "(716,)\n"
          ]
        },
        {
          "output_type": "execute_result",
          "data": {
            "text/plain": [
              "(None, None)"
            ]
          },
          "metadata": {},
          "execution_count": 22
        }
      ]
    },
    {
      "cell_type": "code",
      "metadata": {
        "colab": {
          "base_uri": "https://localhost:8080/"
        },
        "id": "ixyHyf6jga8p",
        "outputId": "eaa331a8-df9a-4e57-ad63-404e69998302"
      },
      "source": [
        "print(X_test.shape), print(ytest.shape)"
      ],
      "execution_count": null,
      "outputs": [
        {
          "output_type": "stream",
          "name": "stdout",
          "text": [
            "(340, 100)\n",
            "(340,)\n"
          ]
        },
        {
          "output_type": "execute_result",
          "data": {
            "text/plain": [
              "(None, None)"
            ]
          },
          "metadata": {},
          "execution_count": 23
        }
      ]
    },
    {
      "cell_type": "code",
      "metadata": {
        "id": "UNZ2sKLzyhIO"
      },
      "source": [
        "#reshaping the input which is required for LSTM\n",
        "X_train = X_train.reshape(X_train.shape[0], X_train.shape[1], 1)\n",
        "X_test = X_test.reshape(X_test.shape[0], X_test.shape[1], 1)"
      ],
      "execution_count": null,
      "outputs": []
    },
    {
      "cell_type": "code",
      "metadata": {
        "id": "eynohVQ6y-HL"
      },
      "source": [
        "#creating the LSTM model\n",
        "from tensorflow.keras.models import Sequential\n",
        "from tensorflow.keras.layers import Dense\n",
        "from tensorflow.keras.layers import LSTM"
      ],
      "execution_count": null,
      "outputs": []
    },
    {
      "cell_type": "code",
      "metadata": {
        "id": "0ibD43XkhAZe"
      },
      "source": [
        "model = Sequential()\n",
        "model.add(LSTM(50, return_sequences=True, input_shape=(100,1)))\n",
        "model.add(LSTM(50, return_sequences=True))\n",
        "model.add(LSTM(50))\n",
        "model.add(Dense(1))\n",
        "model.compile(loss='mean_squared_error', optimizer='adam')"
      ],
      "execution_count": null,
      "outputs": []
    },
    {
      "cell_type": "code",
      "metadata": {
        "colab": {
          "base_uri": "https://localhost:8080/"
        },
        "id": "ZmH5PvSmhm32",
        "outputId": "11166511-829c-47f8-cda1-a8e7ddef9339"
      },
      "source": [
        "model.summary()"
      ],
      "execution_count": null,
      "outputs": [
        {
          "output_type": "stream",
          "name": "stdout",
          "text": [
            "Model: \"sequential\"\n",
            "_________________________________________________________________\n",
            "Layer (type)                 Output Shape              Param #   \n",
            "=================================================================\n",
            "lstm (LSTM)                  (None, 100, 50)           10400     \n",
            "_________________________________________________________________\n",
            "lstm_1 (LSTM)                (None, 100, 50)           20200     \n",
            "_________________________________________________________________\n",
            "lstm_2 (LSTM)                (None, 50)                20200     \n",
            "_________________________________________________________________\n",
            "dense (Dense)                (None, 1)                 51        \n",
            "=================================================================\n",
            "Total params: 50,851\n",
            "Trainable params: 50,851\n",
            "Non-trainable params: 0\n",
            "_________________________________________________________________\n"
          ]
        }
      ]
    },
    {
      "cell_type": "code",
      "metadata": {
        "colab": {
          "base_uri": "https://localhost:8080/"
        },
        "id": "XVWSYWm1homT",
        "outputId": "cfa71c9c-e946-499f-bb59-0fc880187e03"
      },
      "source": [
        "model.fit(X_train, y_train, validation_data=(X_test, ytest), epochs=100, batch_size=64, verbose=1)"
      ],
      "execution_count": null,
      "outputs": [
        {
          "output_type": "stream",
          "name": "stdout",
          "text": [
            "Epoch 1/100\n",
            "12/12 [==============================] - 8s 300ms/step - loss: 0.0157 - val_loss: 0.0309\n",
            "Epoch 2/100\n",
            "12/12 [==============================] - 2s 186ms/step - loss: 0.0039 - val_loss: 0.0263\n",
            "Epoch 3/100\n",
            "12/12 [==============================] - 2s 190ms/step - loss: 0.0021 - val_loss: 0.0208\n",
            "Epoch 4/100\n",
            "12/12 [==============================] - 2s 190ms/step - loss: 8.7732e-04 - val_loss: 0.0223\n",
            "Epoch 5/100\n",
            "12/12 [==============================] - 2s 191ms/step - loss: 5.5404e-04 - val_loss: 0.0273\n",
            "Epoch 6/100\n",
            "12/12 [==============================] - 2s 189ms/step - loss: 4.8933e-04 - val_loss: 0.0255\n",
            "Epoch 7/100\n",
            "12/12 [==============================] - 2s 189ms/step - loss: 4.4586e-04 - val_loss: 0.0245\n",
            "Epoch 8/100\n",
            "12/12 [==============================] - 2s 190ms/step - loss: 4.3413e-04 - val_loss: 0.0260\n",
            "Epoch 9/100\n",
            "12/12 [==============================] - 2s 187ms/step - loss: 4.1590e-04 - val_loss: 0.0268\n",
            "Epoch 10/100\n",
            "12/12 [==============================] - 2s 190ms/step - loss: 4.0134e-04 - val_loss: 0.0271\n",
            "Epoch 11/100\n",
            "12/12 [==============================] - 2s 187ms/step - loss: 3.9734e-04 - val_loss: 0.0270\n",
            "Epoch 12/100\n",
            "12/12 [==============================] - 2s 191ms/step - loss: 3.7669e-04 - val_loss: 0.0262\n",
            "Epoch 13/100\n",
            "12/12 [==============================] - 2s 191ms/step - loss: 3.5774e-04 - val_loss: 0.0243\n",
            "Epoch 14/100\n",
            "12/12 [==============================] - 2s 189ms/step - loss: 3.6804e-04 - val_loss: 0.0251\n",
            "Epoch 15/100\n",
            "12/12 [==============================] - 2s 191ms/step - loss: 3.4955e-04 - val_loss: 0.0279\n",
            "Epoch 16/100\n",
            "12/12 [==============================] - 2s 192ms/step - loss: 3.5212e-04 - val_loss: 0.0213\n",
            "Epoch 17/100\n",
            "12/12 [==============================] - 2s 193ms/step - loss: 3.7299e-04 - val_loss: 0.0256\n",
            "Epoch 18/100\n",
            "12/12 [==============================] - 2s 186ms/step - loss: 3.1244e-04 - val_loss: 0.0210\n",
            "Epoch 19/100\n",
            "12/12 [==============================] - 2s 188ms/step - loss: 3.3352e-04 - val_loss: 0.0251\n",
            "Epoch 20/100\n",
            "12/12 [==============================] - 2s 192ms/step - loss: 3.0531e-04 - val_loss: 0.0225\n",
            "Epoch 21/100\n",
            "12/12 [==============================] - 2s 185ms/step - loss: 2.9094e-04 - val_loss: 0.0229\n",
            "Epoch 22/100\n",
            "12/12 [==============================] - 2s 189ms/step - loss: 2.9638e-04 - val_loss: 0.0221\n",
            "Epoch 23/100\n",
            "12/12 [==============================] - 2s 188ms/step - loss: 2.9263e-04 - val_loss: 0.0231\n",
            "Epoch 24/100\n",
            "12/12 [==============================] - 2s 189ms/step - loss: 2.7079e-04 - val_loss: 0.0227\n",
            "Epoch 25/100\n",
            "12/12 [==============================] - 2s 191ms/step - loss: 2.6450e-04 - val_loss: 0.0198\n",
            "Epoch 26/100\n",
            "12/12 [==============================] - 2s 199ms/step - loss: 2.6665e-04 - val_loss: 0.0236\n",
            "Epoch 27/100\n",
            "12/12 [==============================] - 2s 189ms/step - loss: 2.8775e-04 - val_loss: 0.0171\n",
            "Epoch 28/100\n",
            "12/12 [==============================] - 2s 196ms/step - loss: 2.7402e-04 - val_loss: 0.0193\n",
            "Epoch 29/100\n",
            "12/12 [==============================] - 2s 189ms/step - loss: 2.3905e-04 - val_loss: 0.0196\n",
            "Epoch 30/100\n",
            "12/12 [==============================] - 2s 191ms/step - loss: 2.3829e-04 - val_loss: 0.0202\n",
            "Epoch 31/100\n",
            "12/12 [==============================] - 2s 191ms/step - loss: 2.5922e-04 - val_loss: 0.0201\n",
            "Epoch 32/100\n",
            "12/12 [==============================] - 2s 190ms/step - loss: 2.5580e-04 - val_loss: 0.0176\n",
            "Epoch 33/100\n",
            "12/12 [==============================] - 2s 189ms/step - loss: 2.6053e-04 - val_loss: 0.0161\n",
            "Epoch 34/100\n",
            "12/12 [==============================] - 2s 191ms/step - loss: 2.4863e-04 - val_loss: 0.0198\n",
            "Epoch 35/100\n",
            "12/12 [==============================] - 2s 189ms/step - loss: 2.3810e-04 - val_loss: 0.0147\n",
            "Epoch 36/100\n",
            "12/12 [==============================] - 2s 189ms/step - loss: 2.2690e-04 - val_loss: 0.0155\n",
            "Epoch 37/100\n",
            "12/12 [==============================] - 2s 187ms/step - loss: 2.4047e-04 - val_loss: 0.0191\n",
            "Epoch 38/100\n",
            "12/12 [==============================] - 2s 192ms/step - loss: 2.6821e-04 - val_loss: 0.0152\n",
            "Epoch 39/100\n",
            "12/12 [==============================] - 2s 188ms/step - loss: 2.1704e-04 - val_loss: 0.0162\n",
            "Epoch 40/100\n",
            "12/12 [==============================] - 2s 185ms/step - loss: 2.2013e-04 - val_loss: 0.0152\n",
            "Epoch 41/100\n",
            "12/12 [==============================] - 2s 188ms/step - loss: 2.1077e-04 - val_loss: 0.0151\n",
            "Epoch 42/100\n",
            "12/12 [==============================] - 2s 188ms/step - loss: 2.3052e-04 - val_loss: 0.0159\n",
            "Epoch 43/100\n",
            "12/12 [==============================] - 2s 195ms/step - loss: 2.3628e-04 - val_loss: 0.0134\n",
            "Epoch 44/100\n",
            "12/12 [==============================] - 2s 188ms/step - loss: 2.2997e-04 - val_loss: 0.0123\n",
            "Epoch 45/100\n",
            "12/12 [==============================] - 2s 188ms/step - loss: 2.1122e-04 - val_loss: 0.0145\n",
            "Epoch 46/100\n",
            "12/12 [==============================] - 2s 188ms/step - loss: 2.1000e-04 - val_loss: 0.0136\n",
            "Epoch 47/100\n",
            "12/12 [==============================] - 2s 195ms/step - loss: 1.9976e-04 - val_loss: 0.0123\n",
            "Epoch 48/100\n",
            "12/12 [==============================] - 2s 191ms/step - loss: 2.0716e-04 - val_loss: 0.0125\n",
            "Epoch 49/100\n",
            "12/12 [==============================] - 2s 187ms/step - loss: 2.0564e-04 - val_loss: 0.0119\n",
            "Epoch 50/100\n",
            "12/12 [==============================] - 2s 190ms/step - loss: 2.0105e-04 - val_loss: 0.0135\n",
            "Epoch 51/100\n",
            "12/12 [==============================] - 2s 188ms/step - loss: 2.0371e-04 - val_loss: 0.0123\n",
            "Epoch 52/100\n",
            "12/12 [==============================] - 2s 193ms/step - loss: 2.0051e-04 - val_loss: 0.0139\n",
            "Epoch 53/100\n",
            "12/12 [==============================] - 2s 186ms/step - loss: 1.9142e-04 - val_loss: 0.0120\n",
            "Epoch 54/100\n",
            "12/12 [==============================] - 2s 192ms/step - loss: 1.8904e-04 - val_loss: 0.0127\n",
            "Epoch 55/100\n",
            "12/12 [==============================] - 2s 191ms/step - loss: 2.0031e-04 - val_loss: 0.0104\n",
            "Epoch 56/100\n",
            "12/12 [==============================] - 2s 190ms/step - loss: 2.0708e-04 - val_loss: 0.0125\n",
            "Epoch 57/100\n",
            "12/12 [==============================] - 2s 188ms/step - loss: 1.9580e-04 - val_loss: 0.0130\n",
            "Epoch 58/100\n",
            "12/12 [==============================] - 2s 188ms/step - loss: 2.4395e-04 - val_loss: 0.0114\n",
            "Epoch 59/100\n",
            "12/12 [==============================] - 2s 190ms/step - loss: 2.0982e-04 - val_loss: 0.0101\n",
            "Epoch 60/100\n",
            "12/12 [==============================] - 2s 190ms/step - loss: 1.8324e-04 - val_loss: 0.0101\n",
            "Epoch 61/100\n",
            "12/12 [==============================] - 2s 188ms/step - loss: 2.0586e-04 - val_loss: 0.0122\n",
            "Epoch 62/100\n",
            "12/12 [==============================] - 2s 191ms/step - loss: 1.8953e-04 - val_loss: 0.0106\n",
            "Epoch 63/100\n",
            "12/12 [==============================] - 2s 189ms/step - loss: 1.7774e-04 - val_loss: 0.0105\n",
            "Epoch 64/100\n",
            "12/12 [==============================] - 2s 188ms/step - loss: 1.7640e-04 - val_loss: 0.0100\n",
            "Epoch 65/100\n",
            "12/12 [==============================] - 2s 189ms/step - loss: 1.7270e-04 - val_loss: 0.0102\n",
            "Epoch 66/100\n",
            "12/12 [==============================] - 2s 195ms/step - loss: 1.7811e-04 - val_loss: 0.0110\n",
            "Epoch 67/100\n",
            "12/12 [==============================] - 2s 187ms/step - loss: 1.6537e-04 - val_loss: 0.0105\n",
            "Epoch 68/100\n",
            "12/12 [==============================] - 2s 186ms/step - loss: 1.6946e-04 - val_loss: 0.0106\n",
            "Epoch 69/100\n",
            "12/12 [==============================] - 2s 190ms/step - loss: 1.6764e-04 - val_loss: 0.0103\n",
            "Epoch 70/100\n",
            "12/12 [==============================] - 2s 190ms/step - loss: 1.8145e-04 - val_loss: 0.0100\n",
            "Epoch 71/100\n",
            "12/12 [==============================] - 2s 187ms/step - loss: 1.6605e-04 - val_loss: 0.0088\n",
            "Epoch 72/100\n",
            "12/12 [==============================] - 2s 190ms/step - loss: 1.7151e-04 - val_loss: 0.0093\n",
            "Epoch 73/100\n",
            "12/12 [==============================] - 2s 188ms/step - loss: 1.5798e-04 - val_loss: 0.0090\n",
            "Epoch 74/100\n",
            "12/12 [==============================] - 2s 188ms/step - loss: 1.6813e-04 - val_loss: 0.0096\n",
            "Epoch 75/100\n",
            "12/12 [==============================] - 2s 187ms/step - loss: 1.8786e-04 - val_loss: 0.0105\n",
            "Epoch 76/100\n",
            "12/12 [==============================] - 2s 191ms/step - loss: 1.8076e-04 - val_loss: 0.0095\n",
            "Epoch 77/100\n",
            "12/12 [==============================] - 2s 194ms/step - loss: 1.7609e-04 - val_loss: 0.0094\n",
            "Epoch 78/100\n",
            "12/12 [==============================] - 2s 205ms/step - loss: 1.6176e-04 - val_loss: 0.0083\n",
            "Epoch 79/100\n",
            "12/12 [==============================] - 2s 189ms/step - loss: 1.5528e-04 - val_loss: 0.0091\n",
            "Epoch 80/100\n",
            "12/12 [==============================] - 2s 192ms/step - loss: 1.5245e-04 - val_loss: 0.0080\n",
            "Epoch 81/100\n",
            "12/12 [==============================] - 2s 187ms/step - loss: 1.5850e-04 - val_loss: 0.0083\n",
            "Epoch 82/100\n",
            "12/12 [==============================] - 2s 191ms/step - loss: 1.7991e-04 - val_loss: 0.0099\n",
            "Epoch 83/100\n",
            "12/12 [==============================] - 2s 200ms/step - loss: 1.7757e-04 - val_loss: 0.0087\n",
            "Epoch 84/100\n",
            "12/12 [==============================] - 2s 189ms/step - loss: 1.6394e-04 - val_loss: 0.0079\n",
            "Epoch 85/100\n",
            "12/12 [==============================] - 2s 189ms/step - loss: 1.7266e-04 - val_loss: 0.0073\n",
            "Epoch 86/100\n",
            "12/12 [==============================] - 2s 191ms/step - loss: 1.6888e-04 - val_loss: 0.0091\n",
            "Epoch 87/100\n",
            "12/12 [==============================] - 2s 191ms/step - loss: 1.6773e-04 - val_loss: 0.0086\n",
            "Epoch 88/100\n",
            "12/12 [==============================] - 2s 188ms/step - loss: 1.4394e-04 - val_loss: 0.0075\n",
            "Epoch 89/100\n",
            "12/12 [==============================] - 2s 189ms/step - loss: 1.3609e-04 - val_loss: 0.0076\n",
            "Epoch 90/100\n",
            "12/12 [==============================] - 2s 192ms/step - loss: 1.3764e-04 - val_loss: 0.0078\n",
            "Epoch 91/100\n",
            "12/12 [==============================] - 2s 192ms/step - loss: 1.3277e-04 - val_loss: 0.0076\n",
            "Epoch 92/100\n",
            "12/12 [==============================] - 2s 191ms/step - loss: 1.3515e-04 - val_loss: 0.0072\n",
            "Epoch 93/100\n",
            "12/12 [==============================] - 2s 196ms/step - loss: 1.4252e-04 - val_loss: 0.0078\n",
            "Epoch 94/100\n",
            "12/12 [==============================] - 2s 190ms/step - loss: 1.2939e-04 - val_loss: 0.0075\n",
            "Epoch 95/100\n",
            "12/12 [==============================] - 2s 196ms/step - loss: 1.4139e-04 - val_loss: 0.0066\n",
            "Epoch 96/100\n",
            "12/12 [==============================] - 2s 193ms/step - loss: 1.6510e-04 - val_loss: 0.0070\n",
            "Epoch 97/100\n",
            "12/12 [==============================] - 2s 189ms/step - loss: 1.5790e-04 - val_loss: 0.0068\n",
            "Epoch 98/100\n",
            "12/12 [==============================] - 2s 191ms/step - loss: 1.2870e-04 - val_loss: 0.0076\n",
            "Epoch 99/100\n",
            "12/12 [==============================] - 2s 200ms/step - loss: 1.4413e-04 - val_loss: 0.0070\n",
            "Epoch 100/100\n",
            "12/12 [==============================] - 2s 191ms/step - loss: 1.4948e-04 - val_loss: 0.0081\n"
          ]
        },
        {
          "output_type": "execute_result",
          "data": {
            "text/plain": [
              "<keras.callbacks.History at 0x7f21b9bc9890>"
            ]
          },
          "metadata": {},
          "execution_count": 28
        }
      ]
    },
    {
      "cell_type": "code",
      "metadata": {
        "id": "2qdbFI_OjM6q"
      },
      "source": [
        "#prediction and checking performance metrics\n",
        "train_predict=model.predict(X_train)\n",
        "test_predict=model.predict(X_test)"
      ],
      "execution_count": null,
      "outputs": []
    },
    {
      "cell_type": "code",
      "metadata": {
        "id": "jzUOTCDJjfND"
      },
      "source": [
        "train_predict=sc.inverse_transform(train_predict)\n",
        "test_predict=sc.inverse_transform(test_predict)"
      ],
      "execution_count": null,
      "outputs": []
    },
    {
      "cell_type": "code",
      "metadata": {
        "colab": {
          "base_uri": "https://localhost:8080/"
        },
        "id": "0Gx1RRFQkmYb",
        "outputId": "b9c7359d-5cb4-4ba8-b17f-ae2771a4a895"
      },
      "source": [
        "import math\n",
        "from sklearn.metrics import mean_squared_error\n",
        "math.sqrt(mean_squared_error(y_train, train_predict))"
      ],
      "execution_count": null,
      "outputs": [
        {
          "output_type": "execute_result",
          "data": {
            "text/plain": [
              "192.9699777358331"
            ]
          },
          "metadata": {},
          "execution_count": 31
        }
      ]
    },
    {
      "cell_type": "code",
      "metadata": {
        "colab": {
          "base_uri": "https://localhost:8080/"
        },
        "id": "73D-bZ_UmJQ7",
        "outputId": "07acac9d-ddba-4b94-d0bc-5455fe3cf3c7"
      },
      "source": [
        "math.sqrt(mean_squared_error(ytest, test_predict))"
      ],
      "execution_count": null,
      "outputs": [
        {
          "output_type": "execute_result",
          "data": {
            "text/plain": [
              "219.12794715426818"
            ]
          },
          "metadata": {},
          "execution_count": 32
        }
      ]
    },
    {
      "cell_type": "code",
      "metadata": {
        "id": "y-wOssLEmdhr"
      },
      "source": [
        "look_back = 100\n",
        "trainPredictPlot = numpy.empty_like(df1)\n",
        "trainPredictPlot[:, :] = np.nan\n",
        "trainPredictPlot[look_back:len(train_predict) + look_back, :] = train_predict"
      ],
      "execution_count": null,
      "outputs": []
    },
    {
      "cell_type": "code",
      "metadata": {
        "id": "XMTOtHbLm_Lo"
      },
      "source": [
        "testPredictPlot = numpy.empty_like(df1)\n",
        "testPredictPlot[:, :] = numpy.nan\n",
        "testPredictPlot[len(train_predict) + (look_back*2) + 1:len(df1)-1, :] = test_predict"
      ],
      "execution_count": null,
      "outputs": []
    },
    {
      "cell_type": "code",
      "metadata": {
        "colab": {
          "base_uri": "https://localhost:8080/",
          "height": 267
        },
        "id": "mVRTWQ5dnz17",
        "outputId": "5dfbb213-a820-458a-dba3-4fdaa51f0cd7"
      },
      "source": [
        "plt.plot(sc.inverse_transform(df1))\n",
        "plt.plot(trainPredictPlot)\n",
        "plt.plot(testPredictPlot)\n",
        "plt.show()"
      ],
      "execution_count": null,
      "outputs": [
        {
          "output_type": "display_data",
          "data": {
            "image/png": "[encoded data removed]",
            "text/plain": [
              "<Figure size 432x288 with 1 Axes>"
            ]
          },
          "metadata": {
            "needs_background": "light"
          }
        }
      ]
    },
    {
      "cell_type": "code",
      "metadata": {
        "colab": {
          "base_uri": "https://localhost:8080/"
        },
        "id": "ePJczYEkobj6",
        "outputId": "ab3868b4-895e-42c6-c6a8-dcef75ad5f4d"
      },
      "source": [
        "len(test_data)"
      ],
      "execution_count": null,
      "outputs": [
        {
          "output_type": "execute_result",
          "data": {
            "text/plain": [
              "441"
            ]
          },
          "metadata": {},
          "execution_count": 36
        }
      ]
    },
    {
      "cell_type": "code",
      "metadata": {
        "colab": {
          "base_uri": "https://localhost:8080/"
        },
        "id": "qqGMkCd7poOj",
        "outputId": "73c80284-7800-4031-84e1-64cfd6d7c91d"
      },
      "source": [
        "x_input = test_data[340:].reshape(1, -1)\n",
        "x_input.shape"
      ],
      "execution_count": null,
      "outputs": [
        {
          "output_type": "execute_result",
          "data": {
            "text/plain": [
              "(1, 101)"
            ]
          },
          "metadata": {},
          "execution_count": 37
        }
      ]
    },
    {
      "cell_type": "code",
      "metadata": {
        "id": "3Hi8dF5fp46P"
      },
      "source": [
        "temp_input = list(x_input)\n",
        "temp_input = temp_input[0].tolist()"
      ],
      "execution_count": null,
      "outputs": []
    },
    {
      "cell_type": "code",
      "metadata": {
        "colab": {
          "base_uri": "https://localhost:8080/"
        },
        "id": "kVcuXWyzqMh3",
        "outputId": "77e26dd2-9306-4e77-e197-575757d55f4b"
      },
      "source": [
        "from numpy import array\n",
        "\n",
        "lst_output = []\n",
        "n_steps = 100\n",
        "i = 0\n",
        "while(i<30):\n",
        "\n",
        "  if(len(temp_input)>100):\n",
        "    x_input = np.array(temp_input[1:])\n",
        "    print(\"{} day input {}\".format(i, x_input))\n",
        "    x_input = x_input.reshape(1, -1)\n",
        "    x_input = x_input.reshape(1, n_steps, 1)\n",
        "    yhat = model.predict(x_input, verbose = 0)\n",
        "    print(\"{} day output {}\".format(i, yhat))\n",
        "    temp_input.extend(yhat[0].tolist())\n",
        "    temp_input = temp_input[1:]\n",
        "    lst_output.extend(yhat.tolist())\n",
        "    i = i + 1\n",
        "  else:\n",
        "    x_input = x_input.reshape((1, n_steps, 1))\n",
        "    yhat = model.predict(x_input, verbose=0)\n",
        "    print(yhat[0])\n",
        "    temp_input.extend(yhat[0].tolist())\n",
        "    print(len(temp_input))\n",
        "    lst_output.extend(yhat.tolist())\n",
        "    i = i + 1\n",
        "\n",
        "print(lst_output)"
      ],
      "execution_count": null,
      "outputs": [
        {
          "output_type": "stream",
          "name": "stdout",
          "text": [
            "0 day input [0.05292472 0.05279984 0.04887857 0.04720516 0.04638094 0.04832909\n",
            " 0.04453269 0.05040212 0.05042709 0.0525251  0.05349918 0.0509516\n",
            " 0.05404865 0.06186623 0.05976822 0.06104201 0.06513812 0.06181627\n",
            " 0.06641191 0.07060792 0.06990859 0.06918427 0.06843499 0.07260602\n",
            " 0.07647735 0.07805085 0.07882512 0.08554373 0.09068885 0.0970578\n",
            " 0.09373595 0.09840651 0.09688296 0.09973026 0.10849693 0.10682352\n",
            " 0.10160348 0.09176283 0.10100405 0.09913083 0.1026275  0.10702333\n",
            " 0.10809731 0.10255258 0.09808182 0.09973026 0.10027973 0.09943054\n",
            " 0.10402618 0.10300215 0.10327689 0.10097907 0.10085419 0.09963035\n",
            " 0.10027973 0.10784754 0.10837205 0.11341725 0.11109446 0.10152855\n",
            " 0.10237774 0.10609921 0.1098956  0.10967081 0.1065238  0.10447575\n",
            " 0.10712323 0.11841251 0.11519057 0.11688896 0.11973625 0.12135971\n",
            " 0.12732904 0.12338279 0.12078525 0.10804736 0.10949598 0.10592437\n",
            " 0.10819721 0.10759778 0.10077926 0.09298666 0.0942105  0.10025476\n",
            " 0.10270243 0.10292722 0.0990559  0.09041411 0.09271192 0.08939008\n",
            " 0.09226235 0.08349568 0.088416   0.09063889 0.09386083 0.09288676\n",
            " 0.09266197 0.08941506 0.08791648 0.09503472]\n",
            "0 day output [[0.09804467]]\n",
            "1 day input [0.05279984 0.04887857 0.04720516 0.04638094 0.04832909 0.04453269\n",
            " 0.05040212 0.05042709 0.0525251  0.05349918 0.0509516  0.05404865\n",
            " 0.06186623 0.05976822 0.06104201 0.06513812 0.06181627 0.06641191\n",
            " 0.07060792 0.06990859 0.06918427 0.06843499 0.07260602 0.07647735\n",
            " 0.07805085 0.07882512 0.08554373 0.09068885 0.0970578  0.09373595\n",
            " 0.09840651 0.09688296 0.09973026 0.10849693 0.10682352 0.10160348\n",
            " 0.09176283 0.10100405 0.09913083 0.1026275  0.10702333 0.10809731\n",
            " 0.10255258 0.09808182 0.09973026 0.10027973 0.09943054 0.10402618\n",
            " 0.10300215 0.10327689 0.10097907 0.10085419 0.09963035 0.10027973\n",
            " 0.10784754 0.10837205 0.11341725 0.11109446 0.10152855 0.10237774\n",
            " 0.10609921 0.1098956  0.10967081 0.1065238  0.10447575 0.10712323\n",
            " 0.11841251 0.11519057 0.11688896 0.11973625 0.12135971 0.12732904\n",
            " 0.12338279 0.12078525 0.10804736 0.10949598 0.10592437 0.10819721\n",
            " 0.10759778 0.10077926 0.09298666 0.0942105  0.10025476 0.10270243\n",
            " 0.10292722 0.0990559  0.09041411 0.09271192 0.08939008 0.09226235\n",
            " 0.08349568 0.088416   0.09063889 0.09386083 0.09288676 0.09266197\n",
            " 0.08941506 0.08791648 0.09503472 0.09804467]\n",
            "1 day output [[0.0988588]]\n",
            "2 day input [0.04887857 0.04720516 0.04638094 0.04832909 0.04453269 0.05040212\n",
            " 0.05042709 0.0525251  0.05349918 0.0509516  0.05404865 0.06186623\n",
            " 0.05976822 0.06104201 0.06513812 0.06181627 0.06641191 0.07060792\n",
            " 0.06990859 0.06918427 0.06843499 0.07260602 0.07647735 0.07805085\n",
            " 0.07882512 0.08554373 0.09068885 0.0970578  0.09373595 0.09840651\n",
            " 0.09688296 0.09973026 0.10849693 0.10682352 0.10160348 0.09176283\n",
            " 0.10100405 0.09913083 0.1026275  0.10702333 0.10809731 0.10255258\n",
            " 0.09808182 0.09973026 0.10027973 0.09943054 0.10402618 0.10300215\n",
            " 0.10327689 0.10097907 0.10085419 0.09963035 0.10027973 0.10784754\n",
            " 0.10837205 0.11341725 0.11109446 0.10152855 0.10237774 0.10609921\n",
            " 0.1098956  0.10967081 0.1065238  0.10447575 0.10712323 0.11841251\n",
            " 0.11519057 0.11688896 0.11973625 0.12135971 0.12732904 0.12338279\n",
            " 0.12078525 0.10804736 0.10949598 0.10592437 0.10819721 0.10759778\n",
            " 0.10077926 0.09298666 0.0942105  0.10025476 0.10270243 0.10292722\n",
            " 0.0990559  0.09041411 0.09271192 0.08939008 0.09226235 0.08349568\n",
            " 0.088416   0.09063889 0.09386083 0.09288676 0.09266197 0.08941506\n",
            " 0.08791648 0.09503472 0.09804467 0.0988588 ]\n",
            "2 day output [[0.10017297]]\n",
            "3 day input [0.04720516 0.04638094 0.04832909 0.04453269 0.05040212 0.05042709\n",
            " 0.0525251  0.05349918 0.0509516  0.05404865 0.06186623 0.05976822\n",
            " 0.06104201 0.06513812 0.06181627 0.06641191 0.07060792 0.06990859\n",
            " 0.06918427 0.06843499 0.07260602 0.07647735 0.07805085 0.07882512\n",
            " 0.08554373 0.09068885 0.0970578  0.09373595 0.09840651 0.09688296\n",
            " 0.09973026 0.10849693 0.10682352 0.10160348 0.09176283 0.10100405\n",
            " 0.09913083 0.1026275  0.10702333 0.10809731 0.10255258 0.09808182\n",
            " 0.09973026 0.10027973 0.09943054 0.10402618 0.10300215 0.10327689\n",
            " 0.10097907 0.10085419 0.09963035 0.10027973 0.10784754 0.10837205\n",
            " 0.11341725 0.11109446 0.10152855 0.10237774 0.10609921 0.1098956\n",
            " 0.10967081 0.1065238  0.10447575 0.10712323 0.11841251 0.11519057\n",
            " 0.11688896 0.11973625 0.12135971 0.12732904 0.12338279 0.12078525\n",
            " 0.10804736 0.10949598 0.10592437 0.10819721 0.10759778 0.10077926\n",
            " 0.09298666 0.0942105  0.10025476 0.10270243 0.10292722 0.0990559\n",
            " 0.09041411 0.09271192 0.08939008 0.09226235 0.08349568 0.088416\n",
            " 0.09063889 0.09386083 0.09288676 0.09266197 0.08941506 0.08791648\n",
            " 0.09503472 0.09804467 0.0988588  0.10017297]\n",
            "3 day output [[0.10181446]]\n",
            "4 day input [0.04638094 0.04832909 0.04453269 0.05040212 0.05042709 0.0525251\n",
            " 0.05349918 0.0509516  0.05404865 0.06186623 0.05976822 0.06104201\n",
            " 0.06513812 0.06181627 0.06641191 0.07060792 0.06990859 0.06918427\n",
            " 0.06843499 0.07260602 0.07647735 0.07805085 0.07882512 0.08554373\n",
            " 0.09068885 0.0970578  0.09373595 0.09840651 0.09688296 0.09973026\n",
            " 0.10849693 0.10682352 0.10160348 0.09176283 0.10100405 0.09913083\n",
            " 0.1026275  0.10702333 0.10809731 0.10255258 0.09808182 0.09973026\n",
            " 0.10027973 0.09943054 0.10402618 0.10300215 0.10327689 0.10097907\n",
            " 0.10085419 0.09963035 0.10027973 0.10784754 0.10837205 0.11341725\n",
            " 0.11109446 0.10152855 0.10237774 0.10609921 0.1098956  0.10967081\n",
            " 0.1065238  0.10447575 0.10712323 0.11841251 0.11519057 0.11688896\n",
            " 0.11973625 0.12135971 0.12732904 0.12338279 0.12078525 0.10804736\n",
            " 0.10949598 0.10592437 0.10819721 0.10759778 0.10077926 0.09298666\n",
            " 0.0942105  0.10025476 0.10270243 0.10292722 0.0990559  0.09041411\n",
            " 0.09271192 0.08939008 0.09226235 0.08349568 0.088416   0.09063889\n",
            " 0.09386083 0.09288676 0.09266197 0.08941506 0.08791648 0.09503472\n",
            " 0.09804467 0.0988588  0.10017297 0.10181446]\n",
            "4 day output [[0.1036262]]\n",
            "5 day input [0.04832909 0.04453269 0.05040212 0.05042709 0.0525251  0.05349918\n",
            " 0.0509516  0.05404865 0.06186623 0.05976822 0.06104201 0.06513812\n",
            " 0.06181627 0.06641191 0.07060792 0.06990859 0.06918427 0.06843499\n",
            " 0.07260602 0.07647735 0.07805085 0.07882512 0.08554373 0.09068885\n",
            " 0.0970578  0.09373595 0.09840651 0.09688296 0.09973026 0.10849693\n",
            " 0.10682352 0.10160348 0.09176283 0.10100405 0.09913083 0.1026275\n",
            " 0.10702333 0.10809731 0.10255258 0.09808182 0.09973026 0.10027973\n",
            " 0.09943054 0.10402618 0.10300215 0.10327689 0.10097907 0.10085419\n",
            " 0.09963035 0.10027973 0.10784754 0.10837205 0.11341725 0.11109446\n",
            " 0.10152855 0.10237774 0.10609921 0.1098956  0.10967081 0.1065238\n",
            " 0.10447575 0.10712323 0.11841251 0.11519057 0.11688896 0.11973625\n",
            " 0.12135971 0.12732904 0.12338279 0.12078525 0.10804736 0.10949598\n",
            " 0.10592437 0.10819721 0.10759778 0.10077926 0.09298666 0.0942105\n",
            " 0.10025476 0.10270243 0.10292722 0.0990559  0.09041411 0.09271192\n",
            " 0.08939008 0.09226235 0.08349568 0.088416   0.09063889 0.09386083\n",
            " 0.09288676 0.09266197 0.08941506 0.08791648 0.09503472 0.09804467\n",
            " 0.0988588  0.10017297 0.10181446 0.1036262 ]\n",
            "5 day output [[0.1055037]]\n",
            "6 day input [0.04453269 0.05040212 0.05042709 0.0525251  0.05349918 0.0509516\n",
            " 0.05404865 0.06186623 0.05976822 0.06104201 0.06513812 0.06181627\n",
            " 0.06641191 0.07060792 0.06990859 0.06918427 0.06843499 0.07260602\n",
            " 0.07647735 0.07805085 0.07882512 0.08554373 0.09068885 0.0970578\n",
            " 0.09373595 0.09840651 0.09688296 0.09973026 0.10849693 0.10682352\n",
            " 0.10160348 0.09176283 0.10100405 0.09913083 0.1026275  0.10702333\n",
            " 0.10809731 0.10255258 0.09808182 0.09973026 0.10027973 0.09943054\n",
            " 0.10402618 0.10300215 0.10327689 0.10097907 0.10085419 0.09963035\n",
            " 0.10027973 0.10784754 0.10837205 0.11341725 0.11109446 0.10152855\n",
            " 0.10237774 0.10609921 0.1098956  0.10967081 0.1065238  0.10447575\n",
            " 0.10712323 0.11841251 0.11519057 0.11688896 0.11973625 0.12135971\n",
            " 0.12732904 0.12338279 0.12078525 0.10804736 0.10949598 0.10592437\n",
            " 0.10819721 0.10759778 0.10077926 0.09298666 0.0942105  0.10025476\n",
            " 0.10270243 0.10292722 0.0990559  0.09041411 0.09271192 0.08939008\n",
            " 0.09226235 0.08349568 0.088416   0.09063889 0.09386083 0.09288676\n",
            " 0.09266197 0.08941506 0.08791648 0.09503472 0.09804467 0.0988588\n",
            " 0.10017297 0.10181446 0.1036262  0.1055037 ]\n",
            "6 day output [[0.10739048]]\n",
            "7 day input [0.05040212 0.05042709 0.0525251  0.05349918 0.0509516  0.05404865\n",
            " 0.06186623 0.05976822 0.06104201 0.06513812 0.06181627 0.06641191\n",
            " 0.07060792 0.06990859 0.06918427 0.06843499 0.07260602 0.07647735\n",
            " 0.07805085 0.07882512 0.08554373 0.09068885 0.0970578  0.09373595\n",
            " 0.09840651 0.09688296 0.09973026 0.10849693 0.10682352 0.10160348\n",
            " 0.09176283 0.10100405 0.09913083 0.1026275  0.10702333 0.10809731\n",
            " 0.10255258 0.09808182 0.09973026 0.10027973 0.09943054 0.10402618\n",
            " 0.10300215 0.10327689 0.10097907 0.10085419 0.09963035 0.10027973\n",
            " 0.10784754 0.10837205 0.11341725 0.11109446 0.10152855 0.10237774\n",
            " 0.10609921 0.1098956  0.10967081 0.1065238  0.10447575 0.10712323\n",
            " 0.11841251 0.11519057 0.11688896 0.11973625 0.12135971 0.12732904\n",
            " 0.12338279 0.12078525 0.10804736 0.10949598 0.10592437 0.10819721\n",
            " 0.10759778 0.10077926 0.09298666 0.0942105  0.10025476 0.10270243\n",
            " 0.10292722 0.0990559  0.09041411 0.09271192 0.08939008 0.09226235\n",
            " 0.08349568 0.088416   0.09063889 0.09386083 0.09288676 0.09266197\n",
            " 0.08941506 0.08791648 0.09503472 0.09804467 0.0988588  0.10017297\n",
            " 0.10181446 0.1036262  0.1055037  0.10739048]\n",
            "7 day output [[0.10926209]]\n",
            "8 day input [0.05042709 0.0525251  0.05349918 0.0509516  0.05404865 0.06186623\n",
            " 0.05976822 0.06104201 0.06513812 0.06181627 0.06641191 0.07060792\n",
            " 0.06990859 0.06918427 0.06843499 0.07260602 0.07647735 0.07805085\n",
            " 0.07882512 0.08554373 0.09068885 0.0970578  0.09373595 0.09840651\n",
            " 0.09688296 0.09973026 0.10849693 0.10682352 0.10160348 0.09176283\n",
            " 0.10100405 0.09913083 0.1026275  0.10702333 0.10809731 0.10255258\n",
            " 0.09808182 0.09973026 0.10027973 0.09943054 0.10402618 0.10300215\n",
            " 0.10327689 0.10097907 0.10085419 0.09963035 0.10027973 0.10784754\n",
            " 0.10837205 0.11341725 0.11109446 0.10152855 0.10237774 0.10609921\n",
            " 0.1098956  0.10967081 0.1065238  0.10447575 0.10712323 0.11841251\n",
            " 0.11519057 0.11688896 0.11973625 0.12135971 0.12732904 0.12338279\n",
            " 0.12078525 0.10804736 0.10949598 0.10592437 0.10819721 0.10759778\n",
            " 0.10077926 0.09298666 0.0942105  0.10025476 0.10270243 0.10292722\n",
            " 0.0990559  0.09041411 0.09271192 0.08939008 0.09226235 0.08349568\n",
            " 0.088416   0.09063889 0.09386083 0.09288676 0.09266197 0.08941506\n",
            " 0.08791648 0.09503472 0.09804467 0.0988588  0.10017297 0.10181446\n",
            " 0.1036262  0.1055037  0.10739048 0.10926209]\n",
            "8 day output [[0.11111172]]\n",
            "9 day input [0.0525251  0.05349918 0.0509516  0.05404865 0.06186623 0.05976822\n",
            " 0.06104201 0.06513812 0.06181627 0.06641191 0.07060792 0.06990859\n",
            " 0.06918427 0.06843499 0.07260602 0.07647735 0.07805085 0.07882512\n",
            " 0.08554373 0.09068885 0.0970578  0.09373595 0.09840651 0.09688296\n",
            " 0.09973026 0.10849693 0.10682352 0.10160348 0.09176283 0.10100405\n",
            " 0.09913083 0.1026275  0.10702333 0.10809731 0.10255258 0.09808182\n",
            " 0.09973026 0.10027973 0.09943054 0.10402618 0.10300215 0.10327689\n",
            " 0.10097907 0.10085419 0.09963035 0.10027973 0.10784754 0.10837205\n",
            " 0.11341725 0.11109446 0.10152855 0.10237774 0.10609921 0.1098956\n",
            " 0.10967081 0.1065238  0.10447575 0.10712323 0.11841251 0.11519057\n",
            " 0.11688896 0.11973625 0.12135971 0.12732904 0.12338279 0.12078525\n",
            " 0.10804736 0.10949598 0.10592437 0.10819721 0.10759778 0.10077926\n",
            " 0.09298666 0.0942105  0.10025476 0.10270243 0.10292722 0.0990559\n",
            " 0.09041411 0.09271192 0.08939008 0.09226235 0.08349568 0.088416\n",
            " 0.09063889 0.09386083 0.09288676 0.09266197 0.08941506 0.08791648\n",
            " 0.09503472 0.09804467 0.0988588  0.10017297 0.10181446 0.1036262\n",
            " 0.1055037  0.10739048 0.10926209 0.11111172]\n",
            "9 day output [[0.11294038]]\n",
            "10 day input [0.05349918 0.0509516  0.05404865 0.06186623 0.05976822 0.06104201\n",
            " 0.06513812 0.06181627 0.06641191 0.07060792 0.06990859 0.06918427\n",
            " 0.06843499 0.07260602 0.07647735 0.07805085 0.07882512 0.08554373\n",
            " 0.09068885 0.0970578  0.09373595 0.09840651 0.09688296 0.09973026\n",
            " 0.10849693 0.10682352 0.10160348 0.09176283 0.10100405 0.09913083\n",
            " 0.1026275  0.10702333 0.10809731 0.10255258 0.09808182 0.09973026\n",
            " 0.10027973 0.09943054 0.10402618 0.10300215 0.10327689 0.10097907\n",
            " 0.10085419 0.09963035 0.10027973 0.10784754 0.10837205 0.11341725\n",
            " 0.11109446 0.10152855 0.10237774 0.10609921 0.1098956  0.10967081\n",
            " 0.1065238  0.10447575 0.10712323 0.11841251 0.11519057 0.11688896\n",
            " 0.11973625 0.12135971 0.12732904 0.12338279 0.12078525 0.10804736\n",
            " 0.10949598 0.10592437 0.10819721 0.10759778 0.10077926 0.09298666\n",
            " 0.0942105  0.10025476 0.10270243 0.10292722 0.0990559  0.09041411\n",
            " 0.09271192 0.08939008 0.09226235 0.08349568 0.088416   0.09063889\n",
            " 0.09386083 0.09288676 0.09266197 0.08941506 0.08791648 0.09503472\n",
            " 0.09804467 0.0988588  0.10017297 0.10181446 0.1036262  0.1055037\n",
            " 0.10739048 0.10926209 0.11111172 0.11294038]\n",
            "10 day output [[0.11475185]]\n",
            "11 day input [0.0509516  0.05404865 0.06186623 0.05976822 0.06104201 0.06513812\n",
            " 0.06181627 0.06641191 0.07060792 0.06990859 0.06918427 0.06843499\n",
            " 0.07260602 0.07647735 0.07805085 0.07882512 0.08554373 0.09068885\n",
            " 0.0970578  0.09373595 0.09840651 0.09688296 0.09973026 0.10849693\n",
            " 0.10682352 0.10160348 0.09176283 0.10100405 0.09913083 0.1026275\n",
            " 0.10702333 0.10809731 0.10255258 0.09808182 0.09973026 0.10027973\n",
            " 0.09943054 0.10402618 0.10300215 0.10327689 0.10097907 0.10085419\n",
            " 0.09963035 0.10027973 0.10784754 0.10837205 0.11341725 0.11109446\n",
            " 0.10152855 0.10237774 0.10609921 0.1098956  0.10967081 0.1065238\n",
            " 0.10447575 0.10712323 0.11841251 0.11519057 0.11688896 0.11973625\n",
            " 0.12135971 0.12732904 0.12338279 0.12078525 0.10804736 0.10949598\n",
            " 0.10592437 0.10819721 0.10759778 0.10077926 0.09298666 0.0942105\n",
            " 0.10025476 0.10270243 0.10292722 0.0990559  0.09041411 0.09271192\n",
            " 0.08939008 0.09226235 0.08349568 0.088416   0.09063889 0.09386083\n",
            " 0.09288676 0.09266197 0.08941506 0.08791648 0.09503472 0.09804467\n",
            " 0.0988588  0.10017297 0.10181446 0.1036262  0.1055037  0.10739048\n",
            " 0.10926209 0.11111172 0.11294038 0.11475185]\n",
            "11 day output [[0.1165505]]\n",
            "12 day input [0.05404865 0.06186623 0.05976822 0.06104201 0.06513812 0.06181627\n",
            " 0.06641191 0.07060792 0.06990859 0.06918427 0.06843499 0.07260602\n",
            " 0.07647735 0.07805085 0.07882512 0.08554373 0.09068885 0.0970578\n",
            " 0.09373595 0.09840651 0.09688296 0.09973026 0.10849693 0.10682352\n",
            " 0.10160348 0.09176283 0.10100405 0.09913083 0.1026275  0.10702333\n",
            " 0.10809731 0.10255258 0.09808182 0.09973026 0.10027973 0.09943054\n",
            " 0.10402618 0.10300215 0.10327689 0.10097907 0.10085419 0.09963035\n",
            " 0.10027973 0.10784754 0.10837205 0.11341725 0.11109446 0.10152855\n",
            " 0.10237774 0.10609921 0.1098956  0.10967081 0.1065238  0.10447575\n",
            " 0.10712323 0.11841251 0.11519057 0.11688896 0.11973625 0.12135971\n",
            " 0.12732904 0.12338279 0.12078525 0.10804736 0.10949598 0.10592437\n",
            " 0.10819721 0.10759778 0.10077926 0.09298666 0.0942105  0.10025476\n",
            " 0.10270243 0.10292722 0.0990559  0.09041411 0.09271192 0.08939008\n",
            " 0.09226235 0.08349568 0.088416   0.09063889 0.09386083 0.09288676\n",
            " 0.09266197 0.08941506 0.08791648 0.09503472 0.09804467 0.0988588\n",
            " 0.10017297 0.10181446 0.1036262  0.1055037  0.10739048 0.10926209\n",
            " 0.11111172 0.11294038 0.11475185 0.1165505 ]\n",
            "12 day output [[0.11834048]]\n",
            "13 day input [0.06186623 0.05976822 0.06104201 0.06513812 0.06181627 0.06641191\n",
            " 0.07060792 0.06990859 0.06918427 0.06843499 0.07260602 0.07647735\n",
            " 0.07805085 0.07882512 0.08554373 0.09068885 0.0970578  0.09373595\n",
            " 0.09840651 0.09688296 0.09973026 0.10849693 0.10682352 0.10160348\n",
            " 0.09176283 0.10100405 0.09913083 0.1026275  0.10702333 0.10809731\n",
            " 0.10255258 0.09808182 0.09973026 0.10027973 0.09943054 0.10402618\n",
            " 0.10300215 0.10327689 0.10097907 0.10085419 0.09963035 0.10027973\n",
            " 0.10784754 0.10837205 0.11341725 0.11109446 0.10152855 0.10237774\n",
            " 0.10609921 0.1098956  0.10967081 0.1065238  0.10447575 0.10712323\n",
            " 0.11841251 0.11519057 0.11688896 0.11973625 0.12135971 0.12732904\n",
            " 0.12338279 0.12078525 0.10804736 0.10949598 0.10592437 0.10819721\n",
            " 0.10759778 0.10077926 0.09298666 0.0942105  0.10025476 0.10270243\n",
            " 0.10292722 0.0990559  0.09041411 0.09271192 0.08939008 0.09226235\n",
            " 0.08349568 0.088416   0.09063889 0.09386083 0.09288676 0.09266197\n",
            " 0.08941506 0.08791648 0.09503472 0.09804467 0.0988588  0.10017297\n",
            " 0.10181446 0.1036262  0.1055037  0.10739048 0.10926209 0.11111172\n",
            " 0.11294038 0.11475185 0.1165505  0.11834048]\n",
            "13 day output [[0.12012561]]\n",
            "14 day input [0.05976822 0.06104201 0.06513812 0.06181627 0.06641191 0.07060792\n",
            " 0.06990859 0.06918427 0.06843499 0.07260602 0.07647735 0.07805085\n",
            " 0.07882512 0.08554373 0.09068885 0.0970578  0.09373595 0.09840651\n",
            " 0.09688296 0.09973026 0.10849693 0.10682352 0.10160348 0.09176283\n",
            " 0.10100405 0.09913083 0.1026275  0.10702333 0.10809731 0.10255258\n",
            " 0.09808182 0.09973026 0.10027973 0.09943054 0.10402618 0.10300215\n",
            " 0.10327689 0.10097907 0.10085419 0.09963035 0.10027973 0.10784754\n",
            " 0.10837205 0.11341725 0.11109446 0.10152855 0.10237774 0.10609921\n",
            " 0.1098956  0.10967081 0.1065238  0.10447575 0.10712323 0.11841251\n",
            " 0.11519057 0.11688896 0.11973625 0.12135971 0.12732904 0.12338279\n",
            " 0.12078525 0.10804736 0.10949598 0.10592437 0.10819721 0.10759778\n",
            " 0.10077926 0.09298666 0.0942105  0.10025476 0.10270243 0.10292722\n",
            " 0.0990559  0.09041411 0.09271192 0.08939008 0.09226235 0.08349568\n",
            " 0.088416   0.09063889 0.09386083 0.09288676 0.09266197 0.08941506\n",
            " 0.08791648 0.09503472 0.09804467 0.0988588  0.10017297 0.10181446\n",
            " 0.1036262  0.1055037  0.10739048 0.10926209 0.11111172 0.11294038\n",
            " 0.11475185 0.1165505  0.11834048 0.12012561]\n",
            "14 day output [[0.12190925]]\n",
            "15 day input [0.06104201 0.06513812 0.06181627 0.06641191 0.07060792 0.06990859\n",
            " 0.06918427 0.06843499 0.07260602 0.07647735 0.07805085 0.07882512\n",
            " 0.08554373 0.09068885 0.0970578  0.09373595 0.09840651 0.09688296\n",
            " 0.09973026 0.10849693 0.10682352 0.10160348 0.09176283 0.10100405\n",
            " 0.09913083 0.1026275  0.10702333 0.10809731 0.10255258 0.09808182\n",
            " 0.09973026 0.10027973 0.09943054 0.10402618 0.10300215 0.10327689\n",
            " 0.10097907 0.10085419 0.09963035 0.10027973 0.10784754 0.10837205\n",
            " 0.11341725 0.11109446 0.10152855 0.10237774 0.10609921 0.1098956\n",
            " 0.10967081 0.1065238  0.10447575 0.10712323 0.11841251 0.11519057\n",
            " 0.11688896 0.11973625 0.12135971 0.12732904 0.12338279 0.12078525\n",
            " 0.10804736 0.10949598 0.10592437 0.10819721 0.10759778 0.10077926\n",
            " 0.09298666 0.0942105  0.10025476 0.10270243 0.10292722 0.0990559\n",
            " 0.09041411 0.09271192 0.08939008 0.09226235 0.08349568 0.088416\n",
            " 0.09063889 0.09386083 0.09288676 0.09266197 0.08941506 0.08791648\n",
            " 0.09503472 0.09804467 0.0988588  0.10017297 0.10181446 0.1036262\n",
            " 0.1055037  0.10739048 0.10926209 0.11111172 0.11294038 0.11475185\n",
            " 0.1165505  0.11834048 0.12012561 0.12190925]\n",
            "15 day output [[0.12369446]]\n",
            "16 day input [0.06513812 0.06181627 0.06641191 0.07060792 0.06990859 0.06918427\n",
            " 0.06843499 0.07260602 0.07647735 0.07805085 0.07882512 0.08554373\n",
            " 0.09068885 0.0970578  0.09373595 0.09840651 0.09688296 0.09973026\n",
            " 0.10849693 0.10682352 0.10160348 0.09176283 0.10100405 0.09913083\n",
            " 0.1026275  0.10702333 0.10809731 0.10255258 0.09808182 0.09973026\n",
            " 0.10027973 0.09943054 0.10402618 0.10300215 0.10327689 0.10097907\n",
            " 0.10085419 0.09963035 0.10027973 0.10784754 0.10837205 0.11341725\n",
            " 0.11109446 0.10152855 0.10237774 0.10609921 0.1098956  0.10967081\n",
            " 0.1065238  0.10447575 0.10712323 0.11841251 0.11519057 0.11688896\n",
            " 0.11973625 0.12135971 0.12732904 0.12338279 0.12078525 0.10804736\n",
            " 0.10949598 0.10592437 0.10819721 0.10759778 0.10077926 0.09298666\n",
            " 0.0942105  0.10025476 0.10270243 0.10292722 0.0990559  0.09041411\n",
            " 0.09271192 0.08939008 0.09226235 0.08349568 0.088416   0.09063889\n",
            " 0.09386083 0.09288676 0.09266197 0.08941506 0.08791648 0.09503472\n",
            " 0.09804467 0.0988588  0.10017297 0.10181446 0.1036262  0.1055037\n",
            " 0.10739048 0.10926209 0.11111172 0.11294038 0.11475185 0.1165505\n",
            " 0.11834048 0.12012561 0.12190925 0.12369446]\n",
            "16 day output [[0.12548386]]\n",
            "17 day input [0.06181627 0.06641191 0.07060792 0.06990859 0.06918427 0.06843499\n",
            " 0.07260602 0.07647735 0.07805085 0.07882512 0.08554373 0.09068885\n",
            " 0.0970578  0.09373595 0.09840651 0.09688296 0.09973026 0.10849693\n",
            " 0.10682352 0.10160348 0.09176283 0.10100405 0.09913083 0.1026275\n",
            " 0.10702333 0.10809731 0.10255258 0.09808182 0.09973026 0.10027973\n",
            " 0.09943054 0.10402618 0.10300215 0.10327689 0.10097907 0.10085419\n",
            " 0.09963035 0.10027973 0.10784754 0.10837205 0.11341725 0.11109446\n",
            " 0.10152855 0.10237774 0.10609921 0.1098956  0.10967081 0.1065238\n",
            " 0.10447575 0.10712323 0.11841251 0.11519057 0.11688896 0.11973625\n",
            " 0.12135971 0.12732904 0.12338279 0.12078525 0.10804736 0.10949598\n",
            " 0.10592437 0.10819721 0.10759778 0.10077926 0.09298666 0.0942105\n",
            " 0.10025476 0.10270243 0.10292722 0.0990559  0.09041411 0.09271192\n",
            " 0.08939008 0.09226235 0.08349568 0.088416   0.09063889 0.09386083\n",
            " 0.09288676 0.09266197 0.08941506 0.08791648 0.09503472 0.09804467\n",
            " 0.0988588  0.10017297 0.10181446 0.1036262  0.1055037  0.10739048\n",
            " 0.10926209 0.11111172 0.11294038 0.11475185 0.1165505  0.11834048\n",
            " 0.12012561 0.12190925 0.12369446 0.12548386]\n",
            "17 day output [[0.12727953]]\n",
            "18 day input [0.06641191 0.07060792 0.06990859 0.06918427 0.06843499 0.07260602\n",
            " 0.07647735 0.07805085 0.07882512 0.08554373 0.09068885 0.0970578\n",
            " 0.09373595 0.09840651 0.09688296 0.09973026 0.10849693 0.10682352\n",
            " 0.10160348 0.09176283 0.10100405 0.09913083 0.1026275  0.10702333\n",
            " 0.10809731 0.10255258 0.09808182 0.09973026 0.10027973 0.09943054\n",
            " 0.10402618 0.10300215 0.10327689 0.10097907 0.10085419 0.09963035\n",
            " 0.10027973 0.10784754 0.10837205 0.11341725 0.11109446 0.10152855\n",
            " 0.10237774 0.10609921 0.1098956  0.10967081 0.1065238  0.10447575\n",
            " 0.10712323 0.11841251 0.11519057 0.11688896 0.11973625 0.12135971\n",
            " 0.12732904 0.12338279 0.12078525 0.10804736 0.10949598 0.10592437\n",
            " 0.10819721 0.10759778 0.10077926 0.09298666 0.0942105  0.10025476\n",
            " 0.10270243 0.10292722 0.0990559  0.09041411 0.09271192 0.08939008\n",
            " 0.09226235 0.08349568 0.088416   0.09063889 0.09386083 0.09288676\n",
            " 0.09266197 0.08941506 0.08791648 0.09503472 0.09804467 0.0988588\n",
            " 0.10017297 0.10181446 0.1036262  0.1055037  0.10739048 0.10926209\n",
            " 0.11111172 0.11294038 0.11475185 0.1165505  0.11834048 0.12012561\n",
            " 0.12190925 0.12369446 0.12548386 0.12727953]\n",
            "18 day output [[0.12908313]]\n",
            "19 day input [0.07060792 0.06990859 0.06918427 0.06843499 0.07260602 0.07647735\n",
            " 0.07805085 0.07882512 0.08554373 0.09068885 0.0970578  0.09373595\n",
            " 0.09840651 0.09688296 0.09973026 0.10849693 0.10682352 0.10160348\n",
            " 0.09176283 0.10100405 0.09913083 0.1026275  0.10702333 0.10809731\n",
            " 0.10255258 0.09808182 0.09973026 0.10027973 0.09943054 0.10402618\n",
            " 0.10300215 0.10327689 0.10097907 0.10085419 0.09963035 0.10027973\n",
            " 0.10784754 0.10837205 0.11341725 0.11109446 0.10152855 0.10237774\n",
            " 0.10609921 0.1098956  0.10967081 0.1065238  0.10447575 0.10712323\n",
            " 0.11841251 0.11519057 0.11688896 0.11973625 0.12135971 0.12732904\n",
            " 0.12338279 0.12078525 0.10804736 0.10949598 0.10592437 0.10819721\n",
            " 0.10759778 0.10077926 0.09298666 0.0942105  0.10025476 0.10270243\n",
            " 0.10292722 0.0990559  0.09041411 0.09271192 0.08939008 0.09226235\n",
            " 0.08349568 0.088416   0.09063889 0.09386083 0.09288676 0.09266197\n",
            " 0.08941506 0.08791648 0.09503472 0.09804467 0.0988588  0.10017297\n",
            " 0.10181446 0.1036262  0.1055037  0.10739048 0.10926209 0.11111172\n",
            " 0.11294038 0.11475185 0.1165505  0.11834048 0.12012561 0.12190925\n",
            " 0.12369446 0.12548386 0.12727953 0.12908313]\n",
            "19 day output [[0.13089575]]\n",
            "20 day input [0.06990859 0.06918427 0.06843499 0.07260602 0.07647735 0.07805085\n",
            " 0.07882512 0.08554373 0.09068885 0.0970578  0.09373595 0.09840651\n",
            " 0.09688296 0.09973026 0.10849693 0.10682352 0.10160348 0.09176283\n",
            " 0.10100405 0.09913083 0.1026275  0.10702333 0.10809731 0.10255258\n",
            " 0.09808182 0.09973026 0.10027973 0.09943054 0.10402618 0.10300215\n",
            " 0.10327689 0.10097907 0.10085419 0.09963035 0.10027973 0.10784754\n",
            " 0.10837205 0.11341725 0.11109446 0.10152855 0.10237774 0.10609921\n",
            " 0.1098956  0.10967081 0.1065238  0.10447575 0.10712323 0.11841251\n",
            " 0.11519057 0.11688896 0.11973625 0.12135971 0.12732904 0.12338279\n",
            " 0.12078525 0.10804736 0.10949598 0.10592437 0.10819721 0.10759778\n",
            " 0.10077926 0.09298666 0.0942105  0.10025476 0.10270243 0.10292722\n",
            " 0.0990559  0.09041411 0.09271192 0.08939008 0.09226235 0.08349568\n",
            " 0.088416   0.09063889 0.09386083 0.09288676 0.09266197 0.08941506\n",
            " 0.08791648 0.09503472 0.09804467 0.0988588  0.10017297 0.10181446\n",
            " 0.1036262  0.1055037  0.10739048 0.10926209 0.11111172 0.11294038\n",
            " 0.11475185 0.1165505  0.11834048 0.12012561 0.12190925 0.12369446\n",
            " 0.12548386 0.12727953 0.12908313 0.13089575]\n",
            "20 day output [[0.13271807]]\n",
            "21 day input [0.06918427 0.06843499 0.07260602 0.07647735 0.07805085 0.07882512\n",
            " 0.08554373 0.09068885 0.0970578  0.09373595 0.09840651 0.09688296\n",
            " 0.09973026 0.10849693 0.10682352 0.10160348 0.09176283 0.10100405\n",
            " 0.09913083 0.1026275  0.10702333 0.10809731 0.10255258 0.09808182\n",
            " 0.09973026 0.10027973 0.09943054 0.10402618 0.10300215 0.10327689\n",
            " 0.10097907 0.10085419 0.09963035 0.10027973 0.10784754 0.10837205\n",
            " 0.11341725 0.11109446 0.10152855 0.10237774 0.10609921 0.1098956\n",
            " 0.10967081 0.1065238  0.10447575 0.10712323 0.11841251 0.11519057\n",
            " 0.11688896 0.11973625 0.12135971 0.12732904 0.12338279 0.12078525\n",
            " 0.10804736 0.10949598 0.10592437 0.10819721 0.10759778 0.10077926\n",
            " 0.09298666 0.0942105  0.10025476 0.10270243 0.10292722 0.0990559\n",
            " 0.09041411 0.09271192 0.08939008 0.09226235 0.08349568 0.088416\n",
            " 0.09063889 0.09386083 0.09288676 0.09266197 0.08941506 0.08791648\n",
            " 0.09503472 0.09804467 0.0988588  0.10017297 0.10181446 0.1036262\n",
            " 0.1055037  0.10739048 0.10926209 0.11111172 0.11294038 0.11475185\n",
            " 0.1165505  0.11834048 0.12012561 0.12190925 0.12369446 0.12548386\n",
            " 0.12727953 0.12908313 0.13089575 0.13271807]\n",
            "21 day output [[0.13455029]]\n",
            "22 day input [0.06843499 0.07260602 0.07647735 0.07805085 0.07882512 0.08554373\n",
            " 0.09068885 0.0970578  0.09373595 0.09840651 0.09688296 0.09973026\n",
            " 0.10849693 0.10682352 0.10160348 0.09176283 0.10100405 0.09913083\n",
            " 0.1026275  0.10702333 0.10809731 0.10255258 0.09808182 0.09973026\n",
            " 0.10027973 0.09943054 0.10402618 0.10300215 0.10327689 0.10097907\n",
            " 0.10085419 0.09963035 0.10027973 0.10784754 0.10837205 0.11341725\n",
            " 0.11109446 0.10152855 0.10237774 0.10609921 0.1098956  0.10967081\n",
            " 0.1065238  0.10447575 0.10712323 0.11841251 0.11519057 0.11688896\n",
            " 0.11973625 0.12135971 0.12732904 0.12338279 0.12078525 0.10804736\n",
            " 0.10949598 0.10592437 0.10819721 0.10759778 0.10077926 0.09298666\n",
            " 0.0942105  0.10025476 0.10270243 0.10292722 0.0990559  0.09041411\n",
            " 0.09271192 0.08939008 0.09226235 0.08349568 0.088416   0.09063889\n",
            " 0.09386083 0.09288676 0.09266197 0.08941506 0.08791648 0.09503472\n",
            " 0.09804467 0.0988588  0.10017297 0.10181446 0.1036262  0.1055037\n",
            " 0.10739048 0.10926209 0.11111172 0.11294038 0.11475185 0.1165505\n",
            " 0.11834048 0.12012561 0.12190925 0.12369446 0.12548386 0.12727953\n",
            " 0.12908313 0.13089575 0.13271807 0.13455029]\n",
            "22 day output [[0.1363923]]\n",
            "23 day input [0.07260602 0.07647735 0.07805085 0.07882512 0.08554373 0.09068885\n",
            " 0.0970578  0.09373595 0.09840651 0.09688296 0.09973026 0.10849693\n",
            " 0.10682352 0.10160348 0.09176283 0.10100405 0.09913083 0.1026275\n",
            " 0.10702333 0.10809731 0.10255258 0.09808182 0.09973026 0.10027973\n",
            " 0.09943054 0.10402618 0.10300215 0.10327689 0.10097907 0.10085419\n",
            " 0.09963035 0.10027973 0.10784754 0.10837205 0.11341725 0.11109446\n",
            " 0.10152855 0.10237774 0.10609921 0.1098956  0.10967081 0.1065238\n",
            " 0.10447575 0.10712323 0.11841251 0.11519057 0.11688896 0.11973625\n",
            " 0.12135971 0.12732904 0.12338279 0.12078525 0.10804736 0.10949598\n",
            " 0.10592437 0.10819721 0.10759778 0.10077926 0.09298666 0.0942105\n",
            " 0.10025476 0.10270243 0.10292722 0.0990559  0.09041411 0.09271192\n",
            " 0.08939008 0.09226235 0.08349568 0.088416   0.09063889 0.09386083\n",
            " 0.09288676 0.09266197 0.08941506 0.08791648 0.09503472 0.09804467\n",
            " 0.0988588  0.10017297 0.10181446 0.1036262  0.1055037  0.10739048\n",
            " 0.10926209 0.11111172 0.11294038 0.11475185 0.1165505  0.11834048\n",
            " 0.12012561 0.12190925 0.12369446 0.12548386 0.12727953 0.12908313\n",
            " 0.13089575 0.13271807 0.13455029 0.1363923 ]\n",
            "23 day output [[0.13824369]]\n",
            "24 day input [0.07647735 0.07805085 0.07882512 0.08554373 0.09068885 0.0970578\n",
            " 0.09373595 0.09840651 0.09688296 0.09973026 0.10849693 0.10682352\n",
            " 0.10160348 0.09176283 0.10100405 0.09913083 0.1026275  0.10702333\n",
            " 0.10809731 0.10255258 0.09808182 0.09973026 0.10027973 0.09943054\n",
            " 0.10402618 0.10300215 0.10327689 0.10097907 0.10085419 0.09963035\n",
            " 0.10027973 0.10784754 0.10837205 0.11341725 0.11109446 0.10152855\n",
            " 0.10237774 0.10609921 0.1098956  0.10967081 0.1065238  0.10447575\n",
            " 0.10712323 0.11841251 0.11519057 0.11688896 0.11973625 0.12135971\n",
            " 0.12732904 0.12338279 0.12078525 0.10804736 0.10949598 0.10592437\n",
            " 0.10819721 0.10759778 0.10077926 0.09298666 0.0942105  0.10025476\n",
            " 0.10270243 0.10292722 0.0990559  0.09041411 0.09271192 0.08939008\n",
            " 0.09226235 0.08349568 0.088416   0.09063889 0.09386083 0.09288676\n",
            " 0.09266197 0.08941506 0.08791648 0.09503472 0.09804467 0.0988588\n",
            " 0.10017297 0.10181446 0.1036262  0.1055037  0.10739048 0.10926209\n",
            " 0.11111172 0.11294038 0.11475185 0.1165505  0.11834048 0.12012561\n",
            " 0.12190925 0.12369446 0.12548386 0.12727953 0.12908313 0.13089575\n",
            " 0.13271807 0.13455029 0.1363923  0.13824369]\n",
            "24 day output [[0.14010395]]\n",
            "25 day input [0.07805085 0.07882512 0.08554373 0.09068885 0.0970578  0.09373595\n",
            " 0.09840651 0.09688296 0.09973026 0.10849693 0.10682352 0.10160348\n",
            " 0.09176283 0.10100405 0.09913083 0.1026275  0.10702333 0.10809731\n",
            " 0.10255258 0.09808182 0.09973026 0.10027973 0.09943054 0.10402618\n",
            " 0.10300215 0.10327689 0.10097907 0.10085419 0.09963035 0.10027973\n",
            " 0.10784754 0.10837205 0.11341725 0.11109446 0.10152855 0.10237774\n",
            " 0.10609921 0.1098956  0.10967081 0.1065238  0.10447575 0.10712323\n",
            " 0.11841251 0.11519057 0.11688896 0.11973625 0.12135971 0.12732904\n",
            " 0.12338279 0.12078525 0.10804736 0.10949598 0.10592437 0.10819721\n",
            " 0.10759778 0.10077926 0.09298666 0.0942105  0.10025476 0.10270243\n",
            " 0.10292722 0.0990559  0.09041411 0.09271192 0.08939008 0.09226235\n",
            " 0.08349568 0.088416   0.09063889 0.09386083 0.09288676 0.09266197\n",
            " 0.08941506 0.08791648 0.09503472 0.09804467 0.0988588  0.10017297\n",
            " 0.10181446 0.1036262  0.1055037  0.10739048 0.10926209 0.11111172\n",
            " 0.11294038 0.11475185 0.1165505  0.11834048 0.12012561 0.12190925\n",
            " 0.12369446 0.12548386 0.12727953 0.12908313 0.13089575 0.13271807\n",
            " 0.13455029 0.1363923  0.13824369 0.14010395]\n",
            "25 day output [[0.14197245]]\n",
            "26 day input [0.07882512 0.08554373 0.09068885 0.0970578  0.09373595 0.09840651\n",
            " 0.09688296 0.09973026 0.10849693 0.10682352 0.10160348 0.09176283\n",
            " 0.10100405 0.09913083 0.1026275  0.10702333 0.10809731 0.10255258\n",
            " 0.09808182 0.09973026 0.10027973 0.09943054 0.10402618 0.10300215\n",
            " 0.10327689 0.10097907 0.10085419 0.09963035 0.10027973 0.10784754\n",
            " 0.10837205 0.11341725 0.11109446 0.10152855 0.10237774 0.10609921\n",
            " 0.1098956  0.10967081 0.1065238  0.10447575 0.10712323 0.11841251\n",
            " 0.11519057 0.11688896 0.11973625 0.12135971 0.12732904 0.12338279\n",
            " 0.12078525 0.10804736 0.10949598 0.10592437 0.10819721 0.10759778\n",
            " 0.10077926 0.09298666 0.0942105  0.10025476 0.10270243 0.10292722\n",
            " 0.0990559  0.09041411 0.09271192 0.08939008 0.09226235 0.08349568\n",
            " 0.088416   0.09063889 0.09386083 0.09288676 0.09266197 0.08941506\n",
            " 0.08791648 0.09503472 0.09804467 0.0988588  0.10017297 0.10181446\n",
            " 0.1036262  0.1055037  0.10739048 0.10926209 0.11111172 0.11294038\n",
            " 0.11475185 0.1165505  0.11834048 0.12012561 0.12190925 0.12369446\n",
            " 0.12548386 0.12727953 0.12908313 0.13089575 0.13271807 0.13455029\n",
            " 0.1363923  0.13824369 0.14010395 0.14197245]\n",
            "26 day output [[0.14384843]]\n",
            "27 day input [0.08554373 0.09068885 0.0970578  0.09373595 0.09840651 0.09688296\n",
            " 0.09973026 0.10849693 0.10682352 0.10160348 0.09176283 0.10100405\n",
            " 0.09913083 0.1026275  0.10702333 0.10809731 0.10255258 0.09808182\n",
            " 0.09973026 0.10027973 0.09943054 0.10402618 0.10300215 0.10327689\n",
            " 0.10097907 0.10085419 0.09963035 0.10027973 0.10784754 0.10837205\n",
            " 0.11341725 0.11109446 0.10152855 0.10237774 0.10609921 0.1098956\n",
            " 0.10967081 0.1065238  0.10447575 0.10712323 0.11841251 0.11519057\n",
            " 0.11688896 0.11973625 0.12135971 0.12732904 0.12338279 0.12078525\n",
            " 0.10804736 0.10949598 0.10592437 0.10819721 0.10759778 0.10077926\n",
            " 0.09298666 0.0942105  0.10025476 0.10270243 0.10292722 0.0990559\n",
            " 0.09041411 0.09271192 0.08939008 0.09226235 0.08349568 0.088416\n",
            " 0.09063889 0.09386083 0.09288676 0.09266197 0.08941506 0.08791648\n",
            " 0.09503472 0.09804467 0.0988588  0.10017297 0.10181446 0.1036262\n",
            " 0.1055037  0.10739048 0.10926209 0.11111172 0.11294038 0.11475185\n",
            " 0.1165505  0.11834048 0.12012561 0.12190925 0.12369446 0.12548386\n",
            " 0.12727953 0.12908313 0.13089575 0.13271807 0.13455029 0.1363923\n",
            " 0.13824369 0.14010395 0.14197245 0.14384843]\n",
            "27 day output [[0.14573133]]\n",
            "28 day input [0.09068885 0.0970578  0.09373595 0.09840651 0.09688296 0.09973026\n",
            " 0.10849693 0.10682352 0.10160348 0.09176283 0.10100405 0.09913083\n",
            " 0.1026275  0.10702333 0.10809731 0.10255258 0.09808182 0.09973026\n",
            " 0.10027973 0.09943054 0.10402618 0.10300215 0.10327689 0.10097907\n",
            " 0.10085419 0.09963035 0.10027973 0.10784754 0.10837205 0.11341725\n",
            " 0.11109446 0.10152855 0.10237774 0.10609921 0.1098956  0.10967081\n",
            " 0.1065238  0.10447575 0.10712323 0.11841251 0.11519057 0.11688896\n",
            " 0.11973625 0.12135971 0.12732904 0.12338279 0.12078525 0.10804736\n",
            " 0.10949598 0.10592437 0.10819721 0.10759778 0.10077926 0.09298666\n",
            " 0.0942105  0.10025476 0.10270243 0.10292722 0.0990559  0.09041411\n",
            " 0.09271192 0.08939008 0.09226235 0.08349568 0.088416   0.09063889\n",
            " 0.09386083 0.09288676 0.09266197 0.08941506 0.08791648 0.09503472\n",
            " 0.09804467 0.0988588  0.10017297 0.10181446 0.1036262  0.1055037\n",
            " 0.10739048 0.10926209 0.11111172 0.11294038 0.11475185 0.1165505\n",
            " 0.11834048 0.12012561 0.12190925 0.12369446 0.12548386 0.12727953\n",
            " 0.12908313 0.13089575 0.13271807 0.13455029 0.1363923  0.13824369\n",
            " 0.14010395 0.14197245 0.14384843 0.14573133]\n",
            "28 day output [[0.14762048]]\n",
            "29 day input [0.0970578  0.09373595 0.09840651 0.09688296 0.09973026 0.10849693\n",
            " 0.10682352 0.10160348 0.09176283 0.10100405 0.09913083 0.1026275\n",
            " 0.10702333 0.10809731 0.10255258 0.09808182 0.09973026 0.10027973\n",
            " 0.09943054 0.10402618 0.10300215 0.10327689 0.10097907 0.10085419\n",
            " 0.09963035 0.10027973 0.10784754 0.10837205 0.11341725 0.11109446\n",
            " 0.10152855 0.10237774 0.10609921 0.1098956  0.10967081 0.1065238\n",
            " 0.10447575 0.10712323 0.11841251 0.11519057 0.11688896 0.11973625\n",
            " 0.12135971 0.12732904 0.12338279 0.12078525 0.10804736 0.10949598\n",
            " 0.10592437 0.10819721 0.10759778 0.10077926 0.09298666 0.0942105\n",
            " 0.10025476 0.10270243 0.10292722 0.0990559  0.09041411 0.09271192\n",
            " 0.08939008 0.09226235 0.08349568 0.088416   0.09063889 0.09386083\n",
            " 0.09288676 0.09266197 0.08941506 0.08791648 0.09503472 0.09804467\n",
            " 0.0988588  0.10017297 0.10181446 0.1036262  0.1055037  0.10739048\n",
            " 0.10926209 0.11111172 0.11294038 0.11475185 0.1165505  0.11834048\n",
            " 0.12012561 0.12190925 0.12369446 0.12548386 0.12727953 0.12908313\n",
            " 0.13089575 0.13271807 0.13455029 0.1363923  0.13824369 0.14010395\n",
            " 0.14197245 0.14384843 0.14573133 0.14762048]\n",
            "29 day output [[0.14951552]]\n",
            "[[0.09804467111825943], [0.0988588035106659], [0.1001729667186737], [0.10181445628404617], [0.10362619906663895], [0.10550370067358017], [0.10739047825336456], [0.10926208645105362], [0.11111172288656235], [0.11294037848711014], [0.11475184559822083], [0.1165504977107048], [0.11834048479795456], [0.12012560665607452], [0.1219092532992363], [0.12369446456432343], [0.12548385560512543], [0.12727953493595123], [0.12908312678337097], [0.13089574873447418], [0.1327180713415146], [0.1345502883195877], [0.13639229536056519], [0.1382436901330948], [0.14010395109653473], [0.14197245240211487], [0.14384843409061432], [0.14573132991790771], [0.14762048423290253], [0.1495155245065689]]\n"
          ]
        }
      ]
    },
    {
      "cell_type": "code",
      "metadata": {
        "id": "tNjEJ9c4sKGB"
      },
      "source": [
        "day_new = np.arange(1, 101)\n",
        "day_pred = np.arange(101, 131)"
      ],
      "execution_count": null,
      "outputs": []
    },
    {
      "cell_type": "code",
      "metadata": {
        "colab": {
          "base_uri": "https://localhost:8080/"
        },
        "id": "vGVgnHLOtPiN",
        "outputId": "2d954935-c927-4542-eaa4-86318920d31c"
      },
      "source": [
        "len(df1)"
      ],
      "execution_count": null,
      "outputs": [
        {
          "output_type": "execute_result",
          "data": {
            "text/plain": [
              "1258"
            ]
          },
          "metadata": {},
          "execution_count": 41
        }
      ]
    },
    {
      "cell_type": "code",
      "metadata": {
        "id": "LNl41qVwtR30"
      },
      "source": [
        "df3 = df1.tolist()\n",
        "df3.extend(lst_output)"
      ],
      "execution_count": null,
      "outputs": []
    },
    {
      "cell_type": "code",
      "metadata": {
        "colab": {
          "base_uri": "https://localhost:8080/",
          "height": 282
        },
        "id": "kIqGomp-tg46",
        "outputId": "cf5d0c47-5ad1-4fed-c017-4c033b506c6c"
      },
      "source": [
        "plt.plot(day_new, sc.inverse_transform(df1[1158:]))\n",
        "plt.plot(day_pred, sc.inverse_transform(lst_output))"
      ],
      "execution_count": null,
      "outputs": [
        {
          "output_type": "execute_result",
          "data": {
            "text/plain": [
              "[<matplotlib.lines.Line2D at 0x7f21b6649510>]"
            ]
          },
          "metadata": {},
          "execution_count": 43
        },
        {
          "output_type": "display_data",
          "data": {
            "image/png": "[encoded data removed]",
            "text/plain": [
              "<Figure size 432x288 with 1 Axes>"
            ]
          },
          "metadata": {
            "needs_background": "light"
          }
        }
      ]
    },
    {
      "cell_type": "code",
      "metadata": {
        "colab": {
          "base_uri": "https://localhost:8080/",
          "height": 282
        },
        "id": "XH35_RVUuY-b",
        "outputId": "e1a198fa-c011-4fdb-f1fc-64ab7dfa8411"
      },
      "source": [
        "df3 = df1.tolist()\n",
        "df3.extend(lst_output)\n",
        "plt.plot(df3[1000:])"
      ],
      "execution_count": null,
      "outputs": [
        {
          "output_type": "execute_result",
          "data": {
            "text/plain": [
              "[<matplotlib.lines.Line2D at 0x7f21b98b6290>]"
            ]
          },
          "metadata": {},
          "execution_count": 44
        },
        {
          "output_type": "display_data",
          "data": {
            "image/png": "[encoded data removed]",
            "text/plain": [
              "<Figure size 432x288 with 1 Axes>"
            ]
          },
          "metadata": {
            "needs_background": "light"
          }
        }
      ]
    },
    {
      "cell_type": "code",
      "metadata": {
        "colab": {
          "base_uri": "https://localhost:8080/",
          "height": 282
        },
        "id": "gC3UzdWYumka",
        "outputId": "79325c41-f7dc-4045-8482-c4dfdd1924ab"
      },
      "source": [
        "df3 = df1.tolist()\n",
        "df3.extend(lst_output)\n",
        "plt.plot(df3[1200:])"
      ],
      "execution_count": null,
      "outputs": [
        {
          "output_type": "execute_result",
          "data": {
            "text/plain": [
              "[<matplotlib.lines.Line2D at 0x7f21b6691450>]"
            ]
          },
          "metadata": {},
          "execution_count": 45
        },
        {
          "output_type": "display_data",
          "data": {
            "image/png": "[encoded data removed]",
            "text/plain": [
              "<Figure size 432x288 with 1 Axes>"
            ]
          },
          "metadata": {
            "needs_background": "light"
          }
        }
      ]
    },
    {
      "cell_type": "code",
      "metadata": {
        "id": "I_3Eh2BoHwu2"
      },
      "source": [
        "from sklearn.model_selection import train_test_split\n",
        "from sklearn.tree import DecisionTreeRegressor\n",
        "from sklearn.linear_model import LinearRegression"
      ],
      "execution_count": null,
      "outputs": []
    },
    {
      "cell_type": "code",
      "metadata": {
        "colab": {
          "base_uri": "https://localhost:8080/",
          "height": 204
        },
        "id": "R16Wu81wKEX5",
        "outputId": "f039fc9b-a104-4a94-cf27-5d320dfe8745"
      },
      "source": [
        "df4 = df[['close']]\n",
        "df4.head(5)"
      ],
      "execution_count": null,
      "outputs": [
        {
          "output_type": "execute_result",
          "data": {
            "text/html": [
              "<div>\n",
              "<style scoped>\n",
              "    .dataframe tbody tr th:only-of-type {\n",
              "        vertical-align: middle;\n",
              "    }\n",
              "\n",
              "    .dataframe tbody tr th {\n",
              "        vertical-align: top;\n",
              "    }\n",
              "\n",
              "    .dataframe thead th {\n",
              "        text-align: right;\n",
              "    }\n",
              "</style>\n",
              "<table border=\"1\" class=\"dataframe\">\n",
              "  <thead>\n",
              "    <tr style=\"text-align: right;\">\n",
              "      <th></th>\n",
              "      <th>close</th>\n",
              "    </tr>\n",
              "  </thead>\n",
              "  <tbody>\n",
              "    <tr>\n",
              "      <th>0</th>\n",
              "      <td>117.55</td>\n",
              "    </tr>\n",
              "    <tr>\n",
              "      <th>1</th>\n",
              "      <td>117.47</td>\n",
              "    </tr>\n",
              "    <tr>\n",
              "      <th>2</th>\n",
              "      <td>117.12</td>\n",
              "    </tr>\n",
              "    <tr>\n",
              "      <th>3</th>\n",
              "      <td>117.06</td>\n",
              "    </tr>\n",
              "    <tr>\n",
              "      <th>4</th>\n",
              "      <td>116.60</td>\n",
              "    </tr>\n",
              "  </tbody>\n",
              "</table>\n",
              "</div>"
            ],
            "text/plain": [
              "    close\n",
              "0  117.55\n",
              "1  117.47\n",
              "2  117.12\n",
              "3  117.06\n",
              "4  116.60"
            ]
          },
          "metadata": {},
          "execution_count": 47
        }
      ]
    },
    {
      "cell_type": "code",
      "metadata": {
        "colab": {
          "base_uri": "https://localhost:8080/",
          "height": 306
        },
        "id": "qfg_HSOQHMOF",
        "outputId": "6aacc064-2cdb-4793-ec1e-cdfcf94a530d"
      },
      "source": [
        "future_days1 = 30\n",
        "df4['prediction'] = df4[['close']].shift(-future_days1)\n",
        "df4.head()"
      ],
      "execution_count": null,
      "outputs": [
        {
          "output_type": "stream",
          "name": "stderr",
          "text": [
            "/usr/local/lib/python3.7/dist-packages/ipykernel_launcher.py:2: SettingWithCopyWarning: \n",
            "A value is trying to be set on a copy of a slice from a DataFrame.\n",
            "Try using .loc[row_indexer,col_indexer] = value instead\n",
            "\n",
            "See the caveats in the documentation: https://pandas.pydata.org/pandas-docs/stable/user_guide/indexing.html#returning-a-view-versus-a-copy\n",
            "  \n"
          ]
        },
        {
          "output_type": "execute_result",
          "data": {
            "text/html": [
              "<div>\n",
              "<style scoped>\n",
              "    .dataframe tbody tr th:only-of-type {\n",
              "        vertical-align: middle;\n",
              "    }\n",
              "\n",
              "    .dataframe tbody tr th {\n",
              "        vertical-align: top;\n",
              "    }\n",
              "\n",
              "    .dataframe thead th {\n",
              "        text-align: right;\n",
              "    }\n",
              "</style>\n",
              "<table border=\"1\" class=\"dataframe\">\n",
              "  <thead>\n",
              "    <tr style=\"text-align: right;\">\n",
              "      <th></th>\n",
              "      <th>close</th>\n",
              "      <th>prediction</th>\n",
              "    </tr>\n",
              "  </thead>\n",
              "  <tbody>\n",
              "    <tr>\n",
              "      <th>0</th>\n",
              "      <td>117.55</td>\n",
              "      <td>111.46</td>\n",
              "    </tr>\n",
              "    <tr>\n",
              "      <th>1</th>\n",
              "      <td>117.47</td>\n",
              "      <td>110.52</td>\n",
              "    </tr>\n",
              "    <tr>\n",
              "      <th>2</th>\n",
              "      <td>117.12</td>\n",
              "      <td>109.49</td>\n",
              "    </tr>\n",
              "    <tr>\n",
              "      <th>3</th>\n",
              "      <td>117.06</td>\n",
              "      <td>109.90</td>\n",
              "    </tr>\n",
              "    <tr>\n",
              "      <th>4</th>\n",
              "      <td>116.60</td>\n",
              "      <td>109.11</td>\n",
              "    </tr>\n",
              "  </tbody>\n",
              "</table>\n",
              "</div>"
            ],
            "text/plain": [
              "    close  prediction\n",
              "0  117.55      111.46\n",
              "1  117.47      110.52\n",
              "2  117.12      109.49\n",
              "3  117.06      109.90\n",
              "4  116.60      109.11"
            ]
          },
          "metadata": {},
          "execution_count": 48
        }
      ]
    },
    {
      "cell_type": "code",
      "metadata": {
        "colab": {
          "base_uri": "https://localhost:8080/"
        },
        "id": "JyVRcikXIVcC",
        "outputId": "c7330673-d418-4c6c-ddd4-51692d76eec4"
      },
      "source": [
        "X = np.array(df4.drop(['prediction'],1))[:-future_days1]\n",
        "print(X)"
      ],
      "execution_count": null,
      "outputs": [
        {
          "output_type": "stream",
          "name": "stdout",
          "text": [
            "[[117.55]\n",
            " [117.47]\n",
            " [117.12]\n",
            " ...\n",
            " [153.12]\n",
            " [151.83]\n",
            " [152.51]]\n"
          ]
        }
      ]
    },
    {
      "cell_type": "code",
      "metadata": {
        "colab": {
          "base_uri": "https://localhost:8080/"
        },
        "id": "WJwGocVWIl6l",
        "outputId": "a69972b1-18a7-4b06-9aa0-390f714c0728"
      },
      "source": [
        "y = np.array(df4['prediction'])[:-future_days1]\n",
        "print(y)"
      ],
      "execution_count": null,
      "outputs": [
        {
          "output_type": "stream",
          "name": "stdout",
          "text": [
            "[111.46 110.52 109.49 ... 141.51 140.91 143.76]\n"
          ]
        }
      ]
    },
    {
      "cell_type": "code",
      "metadata": {
        "id": "2RnQdgAWIvqK"
      },
      "source": [
        "x_train, x_test, y_train, y_test = train_test_split(X, y, test_size = 0.25)"
      ],
      "execution_count": null,
      "outputs": []
    },
    {
      "cell_type": "code",
      "metadata": {
        "id": "M8NsKtM0JvB4"
      },
      "source": [
        "tree = DecisionTreeRegressor().fit(x_train, y_train)\n",
        "lr = LinearRegression().fit(x_train, y_train)"
      ],
      "execution_count": null,
      "outputs": []
    },
    {
      "cell_type": "code",
      "metadata": {
        "colab": {
          "base_uri": "https://localhost:8080/"
        },
        "id": "jhvM8wB8Kap6",
        "outputId": "ec376284-b5fb-48c9-99d3-1921964b8139"
      },
      "source": [
        "x_future = df4.drop(['prediction'], 1)[:-future_days1]\n",
        "x_future = x_future.tail(future_days1)\n",
        "x_future = np.array(x_future)\n",
        "x_future"
      ],
      "execution_count": null,
      "outputs": [
        {
          "output_type": "execute_result",
          "data": {
            "text/plain": [
              "array([[146.8 ],\n",
              "       [148.56],\n",
              "       [148.99],\n",
              "       [146.77],\n",
              "       [144.98],\n",
              "       [145.64],\n",
              "       [145.86],\n",
              "       [145.52],\n",
              "       [147.36],\n",
              "       [146.95],\n",
              "       [147.06],\n",
              "       [146.14],\n",
              "       [146.09],\n",
              "       [145.6 ],\n",
              "       [145.86],\n",
              "       [148.89],\n",
              "       [149.1 ],\n",
              "       [151.12],\n",
              "       [150.19],\n",
              "       [146.36],\n",
              "       [146.7 ],\n",
              "       [148.19],\n",
              "       [149.71],\n",
              "       [149.62],\n",
              "       [148.36],\n",
              "       [147.54],\n",
              "       [148.6 ],\n",
              "       [153.12],\n",
              "       [151.83],\n",
              "       [152.51]])"
            ]
          },
          "metadata": {},
          "execution_count": 53
        }
      ]
    },
    {
      "cell_type": "code",
      "metadata": {
        "colab": {
          "base_uri": "https://localhost:8080/"
        },
        "id": "oGVNvs-DKxWZ",
        "outputId": "d4a94610-e7a9-4eeb-84ae-2f9fc8a908b3"
      },
      "source": [
        "tree_prediction = tree.predict(x_future)\n",
        "print(tree_prediction)\n",
        "print()\n",
        "\n",
        "lr_prediction = lr.predict(x_future)\n",
        "print(lr_prediction)"
      ],
      "execution_count": null,
      "outputs": [
        {
          "output_type": "stream",
          "name": "stdout",
          "text": [
            "[153.65  154.3   152.09  155.11  154.07  148.97  146.83  148.12  149.03\n",
            " 145.175 145.175 142.94  143.43  145.85  146.83  146.92  145.37  141.91\n",
            " 142.83  141.5   142.65  170.93  141.11  141.11  143.29  145.16  142.81\n",
            " 174.81  172.5   144.02 ]\n",
            "\n",
            "[162.06530126 163.19010062 163.46490955 162.04612855 160.90215648\n",
            " 161.32395623 161.46455615 161.24726537 162.42319197 162.16116484\n",
            " 162.2314648  161.64350151 161.61154698 161.29839261 161.46455615\n",
            " 163.40100049 163.53520951 164.8261724  164.2318182  161.78410142\n",
            " 162.00139221 162.95363712 163.92505474 163.86753659 163.06228251\n",
            " 162.53822826 163.21566424 166.10435348 165.27992669 165.71450825]\n"
          ]
        }
      ]
    },
    {
      "cell_type": "code",
      "metadata": {
        "colab": {
          "base_uri": "https://localhost:8080/",
          "height": 389
        },
        "id": "a-PFHrgnLJeD",
        "outputId": "6811b4b3-695a-47ec-b28a-f1f88c3066c2"
      },
      "source": [
        "predictions = lr_prediction\n",
        "\n",
        "valid = df4[X.shape[0]:]\n",
        "valid['predictions'] = predictions\n",
        "plt.figure(figsize = (22,4))\n",
        "plt.title('Model')\n",
        "plt.xlabel('Days')\n",
        "plt.ylabel('ClosePrice')\n",
        "plt.plot(df4['close'])\n",
        "plt.plot(valid[['close', 'predictions']])\n",
        "plt.legend(['Orig', 'Val', 'Pred'])\n",
        "plt.show()"
      ],
      "execution_count": null,
      "outputs": [
        {
          "output_type": "stream",
          "name": "stderr",
          "text": [
            "/usr/local/lib/python3.7/dist-packages/ipykernel_launcher.py:4: SettingWithCopyWarning: \n",
            "A value is trying to be set on a copy of a slice from a DataFrame.\n",
            "Try using .loc[row_indexer,col_indexer] = value instead\n",
            "\n",
            "See the caveats in the documentation: https://pandas.pydata.org/pandas-docs/stable/user_guide/indexing.html#returning-a-view-versus-a-copy\n",
            "  after removing the cwd from sys.path.\n"
          ]
        },
        {
          "output_type": "display_data",
          "data": {
            "image/png": "[encoded data removed]",
            "text/plain": [
              "<Figure size 1584x288 with 1 Axes>"
            ]
          },
          "metadata": {
            "needs_background": "light"
          }
        }
      ]
    }
  ]
}