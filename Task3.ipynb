{
 "cells": [
  {
   "cell_type": "markdown",
   "id": "35586889",
   "metadata": {},
   "source": [
    "**Task 2**\n",
    "\n",
    "**Registration I'd: SIRSS2134**\n",
    "\n",
    "**Name: Chetan Bansal**\n"
   ]
  },
  {
   "cell_type": "markdown",
   "id": "b3681239",
   "metadata": {},
   "source": [
    "**Q1. Write a function to return nth term of Fibonacci sequence.**"
   ]
  },
  {
   "cell_type": "code",
   "execution_count": 1,
   "id": "2a654db7",
   "metadata": {},
   "outputs": [],
   "source": [
    "def Fibonacci():\n",
    "    num = int(input('Enter the numeber:'))\n",
    "    Fibonacci_Sequence = [0,1]\n",
    "    \n",
    "    for i in range(0,(num+1)):\n",
    "        if num == 0:\n",
    "            return Fibonacci_Sequence[0]\n",
    "        elif num == 1:\n",
    "            return Fibonacci_Sequence\n",
    "        if i>2:\n",
    "            k = Fibonacci_Sequence[i-2] + Fibonacci_Sequence[i-3]\n",
    "            Fibonacci_Sequence.append(k)\n",
    "    return Fibonacci_Sequence"
   ]
  },
  {
   "cell_type": "code",
   "execution_count": 2,
   "id": "d91d4481",
   "metadata": {},
   "outputs": [
    {
     "name": "stdout",
     "output_type": "stream",
     "text": [
      "Enter the numeber:15\n"
     ]
    },
    {
     "data": {
      "text/plain": [
       "[0, 1, 1, 2, 3, 5, 8, 13, 21, 34, 55, 89, 144, 233, 377]"
      ]
     },
     "execution_count": 2,
     "metadata": {},
     "output_type": "execute_result"
    }
   ],
   "source": [
    "Fibonacci()"
   ]
  },
  {
   "cell_type": "markdown",
   "id": "f0945459",
   "metadata": {},
   "source": [
    "**Q2. Write a function to find out GCD of two numbers using EUCLID'S algorithm.**"
   ]
  },
  {
   "cell_type": "code",
   "execution_count": 3,
   "id": "5aa68d90",
   "metadata": {},
   "outputs": [
    {
     "name": "stdout",
     "output_type": "stream",
     "text": [
      "Enter First Number: 20\n",
      "Enter Second Number: 30\n",
      "GCD:-  10\n"
     ]
    }
   ],
   "source": [
    "def GCD(a, b):\n",
    "    if b == 0:\n",
    "        return a\n",
    "    else:\n",
    "        return GCD(b, a%b)\n",
    "n1 = int(input(\"Enter First Number: \"))\n",
    "n2 = int(input(\"Enter Second Number: \"))\n",
    "print(\"GCD:- \", GCD(n1, n2))"
   ]
  },
  {
   "cell_type": "markdown",
   "id": "ea8a5635",
   "metadata": {},
   "source": [
    "**3.LCM of two numbers in most optimizer way.**"
   ]
  },
  {
   "cell_type": "code",
   "execution_count": 4,
   "id": "271f0da6",
   "metadata": {},
   "outputs": [
    {
     "name": "stdout",
     "output_type": "stream",
     "text": [
      "Enter first number:30\n",
      "Enter second number:40\n",
      "LCM of 30 and 40 is 120\n"
     ]
    }
   ],
   "source": [
    "num1=int(input(\"Enter first number:\"))\n",
    "num2=int(input(\"Enter second number:\"))\n",
    "j=max(num1,num2)\n",
    "while(True):\n",
    "  if (j%num1==0) and (j%num2==0):\n",
    "    result=j\n",
    "    break\n",
    "  else:\n",
    "    j=j+1\n",
    "print(\"LCM of {0} and {1} is {2}\".format(num1,num2,result))"
   ]
  }
 ],
 "metadata": {
  "kernelspec": {
   "display_name": "Python 3",
   "language": "python",
   "name": "python3"
  },
  "language_info": {
   "codemirror_mode": {
    "name": "ipython",
    "version": 3
   },
   "file_extension": ".py",
   "mimetype": "text/x-python",
   "name": "python",
   "nbconvert_exporter": "python",
   "pygments_lexer": "ipython3",
   "version": "3.8.8"
  }
 },
 "nbformat": 4,
 "nbformat_minor": 5
}
