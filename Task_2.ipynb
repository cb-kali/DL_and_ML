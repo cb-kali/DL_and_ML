{
 "cells": [
  {
   "cell_type": "markdown",
   "id": "bc33eee8",
   "metadata": {},
   "source": [
    "**Task 2**\n",
    "\n",
    "**Registration I'd: SIRSS2134**\n",
    "\n",
    "**Name: Chetan Bansal**\n"
   ]
  },
  {
   "cell_type": "markdown",
   "id": "1b1a6e6d",
   "metadata": {},
   "source": [
    "Q1. Write a lambda expression to extract first word of a string."
   ]
  },
  {
   "cell_type": "code",
   "execution_count": 1,
   "id": "10ed38e2",
   "metadata": {},
   "outputs": [
    {
     "name": "stdout",
     "output_type": "stream",
     "text": [
      "Hello\n"
     ]
    }
   ],
   "source": [
    "a = 'Hello Everyone, I am Chetan Bansal'\n",
    "x = lambda y : y.split()[0]\n",
    "print(x(a))"
   ]
  },
  {
   "cell_type": "markdown",
   "id": "2fffdeef",
   "metadata": {},
   "source": [
    "Q2. Write a function to extract first word of s string (with many words separated by space)."
   ]
  },
  {
   "cell_type": "code",
   "execution_count": 2,
   "id": "3639cece",
   "metadata": {},
   "outputs": [
    {
     "name": "stdout",
     "output_type": "stream",
     "text": [
      "Write\n"
     ]
    }
   ],
   "source": [
    "Str = 'Write a function to extract first word of s string.'\n",
    "def extract(a):\n",
    "    return a.split()[0]\n",
    "print(extract(Str))"
   ]
  },
  {
   "cell_type": "markdown",
   "id": "c5f469fe",
   "metadata": {},
   "source": [
    "Q3. Extract the first word from every string from a list of strings by using map function."
   ]
  },
  {
   "cell_type": "code",
   "execution_count": 3,
   "id": "8355370d",
   "metadata": {
    "scrolled": true
   },
   "outputs": [
    {
     "name": "stdout",
     "output_type": "stream",
     "text": [
      "['Chetan', 'Udit', 'Chahat']\n"
     ]
    }
   ],
   "source": [
    "lst = ['Chetan Bansal','Udit Sharma','Chahat Singh']\n",
    "def myfun(lst):\n",
    "    return lst.split()[0]\n",
    "x = map(myfun,lst)\n",
    "print(list(x))"
   ]
  },
  {
   "cell_type": "markdown",
   "id": "695d224e",
   "metadata": {},
   "source": [
    "Q4. Write a function to return a list of prime factors of a given number. "
   ]
  },
  {
   "cell_type": "code",
   "execution_count": 4,
   "id": "6f7f91d1",
   "metadata": {},
   "outputs": [
    {
     "name": "stdout",
     "output_type": "stream",
     "text": [
      "Enter a any number :30\n",
      "[2, 3, 5]\n"
     ]
    }
   ],
   "source": [
    "def prime_fact(x):\n",
    "    p_factors = []\n",
    "    div = 2  \n",
    "    while div <= x:\n",
    "        if x%div == 0:\n",
    "            p_factors.append(div)\n",
    "            x = x/div\n",
    "        else:\n",
    "            div += 1\n",
    "    return p_factors\n",
    "a = int(input(\"Enter a any number :\"))\n",
    "print(prime_fact(a))"
   ]
  },
  {
   "cell_type": "markdown",
   "id": "c05a8569",
   "metadata": {},
   "source": [
    "Q5. Write a function that finds 2nd largest among 4 numbers (Repetitions are allowed,  without sorting). "
   ]
  },
  {
   "cell_type": "code",
   "execution_count": 5,
   "id": "4f5e2f18",
   "metadata": {},
   "outputs": [
    {
     "name": "stdout",
     "output_type": "stream",
     "text": [
      "Enter element: 30\n",
      "Enter element: 20\n",
      "Enter element: 40\n",
      "Enter element: 45\n",
      "Original elements:  [30, 20, 40, 45]\n",
      "2nd largest among 4 numbers:  40\n"
     ]
    }
   ],
   "source": [
    "list1 = []\n",
    "def sec_largest(l):\n",
    "    new_list = set(l)\n",
    "    new_list.remove(max(new_list))\n",
    "    return max(new_list)\n",
    "for i in range(1, 5):\n",
    "    ele = int(input(\"Enter element: \"))\n",
    "    list1.append(ele)\n",
    "print('Original elements: ',list1)\n",
    "print('2nd largest among 4 numbers: ',sec_largest(list1))"
   ]
  }
 ],
 "metadata": {
  "kernelspec": {
   "display_name": "Python 3",
   "language": "python",
   "name": "python3"
  },
  "language_info": {
   "codemirror_mode": {
    "name": "ipython",
    "version": 3
   },
   "file_extension": ".py",
   "mimetype": "text/x-python",
   "name": "python",
   "nbconvert_exporter": "python",
   "pygments_lexer": "ipython3",
   "version": "3.8.8"
  }
 },
 "nbformat": 4,
 "nbformat_minor": 5
}
